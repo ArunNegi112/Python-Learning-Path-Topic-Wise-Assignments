{
 "cells": [
  {
   "cell_type": "code",
   "execution_count": 1,
   "metadata": {},
   "outputs": [],
   "source": [
    "import numpy as np\n"
   ]
  },
  {
   "cell_type": "code",
   "execution_count": 5,
   "metadata": {},
   "outputs": [
    {
     "data": {
      "text/plain": [
       "[[10, 2, 0, 30]]"
      ]
     },
     "execution_count": 5,
     "metadata": {},
     "output_type": "execute_result"
    }
   ],
   "source": [
    "a = \"10 2 0 30\"\n",
    "data = []\n",
    "data.append(list(map(int,a.split())))\n",
    "data"
   ]
  },
  {
   "cell_type": "code",
   "execution_count": 11,
   "metadata": {},
   "outputs": [
    {
     "name": "stdout",
     "output_type": "stream",
     "text": [
      "315\n"
     ]
    }
   ],
   "source": [
    "N,M = input().split()\n",
    "N = int(N)\n",
    "M = int(M)\n",
    "\n",
    "\n",
    "data = []\n",
    "for i in range(N):\n",
    "    nums = list(map(int,input().split()))  # Enter M number of space separated integers\n",
    "    data.append(nums)\n",
    "\n",
    "arr = np.array(data)\n",
    "sum = arr.sum(axis = 0)\n",
    "\n",
    "prod = 1\n",
    "for _ in sum:\n",
    "    prod *= _\n",
    "\n",
    "print(prod)\n"
   ]
  },
  {
   "cell_type": "code",
   "execution_count": 17,
   "metadata": {},
   "outputs": [
    {
     "name": "stdout",
     "output_type": "stream",
     "text": [
      "[1, 23, 4, [1, 2, 3, 1]]\n"
     ]
    }
   ],
   "source": [
    "a = [1,23,4]\n",
    "b = [1,2,3,1]\n",
    "a.append(b)\n",
    "print(a)"
   ]
  },
  {
   "cell_type": "code",
   "execution_count": 18,
   "metadata": {},
   "outputs": [
    {
     "name": "stdout",
     "output_type": "stream",
     "text": [
      "315\n",
      "[[1 2 3]\n",
      " [4 5 6]]\n"
     ]
    }
   ],
   "source": [
    "N,M = [int(x) for x in input().split()]\n",
    "\n",
    "\n",
    "data = []\n",
    "for i in range(N):\n",
    "    nums = list(map(int,input().split()))  # Enter M number of space separated integers\n",
    "    data.append(nums)\n",
    "\n",
    "arr = np.array(data)\n",
    "sum = arr.sum(axis = 0)\n",
    "\n",
    "prod = 1\n",
    "for _ in sum:\n",
    "    prod *= _\n",
    "\n",
    "print(prod)\n",
    "print(arr)\n"
   ]
  }
 ],
 "metadata": {
  "kernelspec": {
   "display_name": "base",
   "language": "python",
   "name": "python3"
  },
  "language_info": {
   "codemirror_mode": {
    "name": "ipython",
    "version": 3
   },
   "file_extension": ".py",
   "mimetype": "text/x-python",
   "name": "python",
   "nbconvert_exporter": "python",
   "pygments_lexer": "ipython3",
   "version": "3.12.7"
  }
 },
 "nbformat": 4,
 "nbformat_minor": 2
}
