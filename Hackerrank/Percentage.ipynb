{
 "cells": [
  {
   "cell_type": "code",
   "execution_count": 1,
   "metadata": {},
   "outputs": [
    {
     "name": "stdout",
     "output_type": "stream",
     "text": [
      "The avg marks of arun is 20.0\n"
     ]
    }
   ],
   "source": [
    "n = int(input(\"Enter the number: \"))\n",
    "students = {}\n",
    "\n",
    "for _ in range(n):\n",
    "    lst = input(\"Enter name and marks: \")\n",
    "    name,*marks = lst.split()\n",
    "    scores = list(map(float,marks))\n",
    "    students[name]=scores\n",
    "\n",
    "query_name = input(\"Enter the query name: \")\n",
    "\n",
    "def percentage(name):\n",
    "    return f\"The avg marks of {name} is {round(sum(students[name])/len(students[name]),2)}\"\n",
    "\n",
    "print(percentage(query_name))"
   ]
  },
  {
   "cell_type": "code",
   "execution_count": 2,
   "metadata": {},
   "outputs": [
    {
     "name": "stdout",
     "output_type": "stream",
     "text": [
      "20.00\n"
     ]
    }
   ],
   "source": [
    "n = int(input())\n",
    "students = {}\n",
    "\n",
    "for _ in range(n):\n",
    "    lst = input()\n",
    "    name,*marks = lst.split()\n",
    "    scores = list(map(float,marks))\n",
    "    students[name]=scores\n",
    "\n",
    "query_name = input()\n",
    "\n",
    "def percentage(name):\n",
    "    avg_per=sum(students[name])/len(students[name])\n",
    "    return f\"{avg_per:.2f}\"\n",
    "\n",
    "print(percentage(query_name))\n"
   ]
  }
 ],
 "metadata": {
  "kernelspec": {
   "display_name": "base",
   "language": "python",
   "name": "python3"
  },
  "language_info": {
   "codemirror_mode": {
    "name": "ipython",
    "version": 3
   },
   "file_extension": ".py",
   "mimetype": "text/x-python",
   "name": "python",
   "nbconvert_exporter": "python",
   "pygments_lexer": "ipython3",
   "version": "3.12.7"
  }
 },
 "nbformat": 4,
 "nbformat_minor": 2
}
