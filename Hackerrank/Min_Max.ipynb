{
 "cells": [
  {
   "cell_type": "code",
   "execution_count": 7,
   "metadata": {},
   "outputs": [
    {
     "name": "stdout",
     "output_type": "stream",
     "text": [
      "7\n"
     ]
    }
   ],
   "source": [
    "import numpy as np\n",
    "N, M = [int(x) for x in input().split()]\n",
    "\n",
    "lst = []\n",
    "for i in range(N):\n",
    "    nums = list(map(int,input().split()))\n",
    "    lst.append(nums)\n",
    "\n",
    "arr = np.array(lst)\n",
    "min = arr.min(axis=1)\n",
    "\n",
    "max = min.max()\n",
    "print(max)"
   ]
  }
 ],
 "metadata": {
  "kernelspec": {
   "display_name": "base",
   "language": "python",
   "name": "python3"
  },
  "language_info": {
   "codemirror_mode": {
    "name": "ipython",
    "version": 3
   },
   "file_extension": ".py",
   "mimetype": "text/x-python",
   "name": "python",
   "nbconvert_exporter": "python",
   "pygments_lexer": "ipython3",
   "version": "3.12.7"
  }
 },
 "nbformat": 4,
 "nbformat_minor": 2
}
