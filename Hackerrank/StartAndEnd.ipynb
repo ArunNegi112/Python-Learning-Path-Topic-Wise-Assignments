{
 "cells": [
  {
   "cell_type": "code",
   "execution_count": 1,
   "metadata": {},
   "outputs": [],
   "source": [
    "import re"
   ]
  },
  {
   "cell_type": "code",
   "execution_count": 37,
   "metadata": {},
   "outputs": [
    {
     "name": "stdout",
     "output_type": "stream",
     "text": [
      "(0, 1)\n",
      "(1, 2)\n",
      "(4, 5)\n"
     ]
    }
   ],
   "source": [
    "S = input()\n",
    "k = input()\n",
    "matches = re.finditer(pattern=rf\"(?={k})\",string=S)\n",
    "for match in matches:\n",
    "    print(f\"{(match.start(),match.start()+len(k)-1)}\")"
   ]
  },
  {
   "cell_type": "code",
   "execution_count": 41,
   "metadata": {},
   "outputs": [
    {
     "name": "stdout",
     "output_type": "stream",
     "text": [
      "(-1,-1)\n"
     ]
    }
   ],
   "source": [
    "S = input()\n",
    "k = input()\n",
    "matches = list(re.finditer(pattern=rf\"(?={k})\",string=S))\n",
    "if matches:\n",
    "    for match in matches:\n",
    "        print(f\"{(match.start(),match.start()+len(k)-1)}\")\n",
    "else:\n",
    "    print((-1,-1))"
   ]
  }
 ],
 "metadata": {
  "kernelspec": {
   "display_name": "base",
   "language": "python",
   "name": "python3"
  },
  "language_info": {
   "codemirror_mode": {
    "name": "ipython",
    "version": 3
   },
   "file_extension": ".py",
   "mimetype": "text/x-python",
   "name": "python",
   "nbconvert_exporter": "python",
   "pygments_lexer": "ipython3",
   "version": "3.12.7"
  }
 },
 "nbformat": 4,
 "nbformat_minor": 2
}
