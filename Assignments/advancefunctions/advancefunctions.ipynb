{
 "cells": [
  {
   "cell_type": "markdown",
   "metadata": {},
   "source": [
    "# Module 4: Advanced Functions Assignments\n"
   ]
  },
  {
   "cell_type": "markdown",
   "id": "34e4bb6b",
   "metadata": {},
   "source": [
    "## Lesson 4.1: Defining Functions\n",
    "### Assignment 1: Fibonacci Sequence with Memoization\n",
    "\n",
    "Define a recursive function to calculate the nth Fibonacci number using memoization. Test the function with different inputs.\n"
   ]
  },
  {
   "cell_type": "code",
   "execution_count": 31,
   "id": "658ac38d",
   "metadata": {},
   "outputs": [
    {
     "name": "stdout",
     "output_type": "stream",
     "text": [
      "24157817\n",
      "7.932369232177734\n"
     ]
    }
   ],
   "source": [
    "import time\n",
    "# Without memoization7\n",
    "\n",
    "def fib(n):\n",
    "    '''This is a docstring'''\n",
    "    if n<=0:\n",
    "        return \"Error! enter a valid number\"\n",
    "    if n<=2:\n",
    "            return n-1\n",
    "    return fib(n-1)+fib(n-2)\n",
    "t = time.time()\n",
    "print(fib(38))\n",
    "t2 = time.time() - t\n",
    "print(t2)"
   ]
  },
  {
   "cell_type": "code",
   "execution_count": 32,
   "id": "aa45f1f3",
   "metadata": {},
   "outputs": [
    {
     "name": "stdout",
     "output_type": "stream",
     "text": [
      "24157817\n",
      "0.0002009868621826172\n"
     ]
    }
   ],
   "source": [
    "# Memoization : A concept in python with the help of which we can store value of something that we may need in future, to reduce the calculation time\n",
    "from functools import lru_cache\n",
    "@lru_cache(maxsize=None)         # In built function for memoization\n",
    "def fib(n):\n",
    "    if n<=0:\n",
    "        return \"Enter a valid number\"\n",
    "    elif n==1:\n",
    "        return 0\n",
    "    elif n==2:\n",
    "        return 1\n",
    "    else :\n",
    "        value = fib(n-2)-fib(n-1)\n",
    "        return value\n",
    "\n",
    "t = time.time()\n",
    "print(fib(38))\n",
    "t2 = time.time() - t\n",
    "print(t2)"
   ]
  },
  {
   "cell_type": "code",
   "execution_count": 34,
   "id": "33cf4b31",
   "metadata": {},
   "outputs": [
    {
     "name": "stdout",
     "output_type": "stream",
     "text": [
      "39088169\n",
      "0.00039505958557128906\n"
     ]
    }
   ],
   "source": [
    "# Manual mamoization with the help of dictionary\n",
    "\n",
    "def fib(n,memo={}):\n",
    "    if n in memo:\n",
    "        return memo[n]\n",
    "    elif n<=0:\n",
    "        return \"Enter a valid number\"\n",
    "    elif n<=2:\n",
    "        return n-1\n",
    "    memo[n]=fib(n-1,memo)+fib(n-2,memo)\n",
    "    return memo[n]\n",
    "\n",
    "t = time.time()\n",
    "print(fib(38))\n",
    "t2 = time.time() - t\n",
    "print(t2)"
   ]
  },
  {
   "cell_type": "markdown",
   "id": "064ba0ba",
   "metadata": {},
   "source": [
    "\n",
    "### Assignment 2: Function with Nested Default Arguments\n",
    "\n",
    "Define a function that takes two arguments, a and b, where b is a dictionary with a default value of an empty dictionary. The function should add a new key-value pair to the dictionary and return it. Test the function with different inputs.\n"
   ]
  },
  {
   "cell_type": "code",
   "execution_count": 5,
   "id": "eaeb6ef1",
   "metadata": {},
   "outputs": [
    {
     "name": "stdout",
     "output_type": "stream",
     "text": [
      "{3: 27}\n",
      "{3: 27, 4: 64}\n",
      "{3: 27, 4: 64, 10: 1000}\n",
      "{3: 18, 9: 81, 5: 125}\n"
     ]
    }
   ],
   "source": [
    "# Wrong ans\n",
    "\n",
    "def add_kv(a,b={}):\n",
    "    b[a]=a**3\n",
    "    return b\n",
    "\n",
    "print(add_kv(3))\n",
    "print(add_kv(4))                 # {3: 27, 4: 64} --> why 3:27 still there? \n",
    "print(add_kv(10))\n",
    "\n",
    "print(add_kv(5,{3:18,9:81}))     # {3: 18, 9: 81, 5: 125} why previous values not there?\n",
    "\n",
    "# Python evaluates default arguments once at function definition, so mutable defaults like {} persist across calls.\n",
    "# This causes unintended modifications to the same dictionary. When explicitly passing a dictionary, \n",
    "# python uses the provided one instead of the default. \n",
    "# We used that for memoization, but its wrong here"
   ]
  },
  {
   "cell_type": "code",
   "execution_count": 6,
   "id": "6813490a",
   "metadata": {},
   "outputs": [
    {
     "name": "stdout",
     "output_type": "stream",
     "text": [
      "{3: 27}\n",
      "{4: 64}\n",
      "{10: 1000}\n",
      "{3: 18, 9: 81, 5: 125}\n"
     ]
    }
   ],
   "source": [
    "# use None as the default and initialize a new dictionary inside the function everytime.\n",
    "\n",
    "def add_kv(a,b=None):\n",
    "    if b==None:\n",
    "        b ={}\n",
    "    b[a]=a**3\n",
    "    return b\n",
    "\n",
    "print(add_kv(3))\n",
    "print(add_kv(4))            \n",
    "print(add_kv(10))\n",
    "\n",
    "print(add_kv(5,{3:18,9:81})) "
   ]
  },
  {
   "cell_type": "markdown",
   "id": "734b9b91",
   "metadata": {},
   "source": [
    "\n",
    "### Assignment 3: Function with Variable Keyword Arguments\n",
    "\n",
    "Define a function that takes a variable number of keyword arguments and returns a dictionary containing only those key-value pairs where the value is an integer. Test the function with different inputs.\n"
   ]
  },
  {
   "cell_type": "code",
   "execution_count": 7,
   "id": "e3cbb17e",
   "metadata": {},
   "outputs": [
    {
     "data": {
      "text/plain": [
       "{'A': 10}"
      ]
     },
     "execution_count": 7,
     "metadata": {},
     "output_type": "execute_result"
    }
   ],
   "source": [
    "def filter_int(**kwargs):\n",
    "    filtered_dict = {}\n",
    "    for key,value in kwargs.items():\n",
    "        if isinstance(value,int):\n",
    "            filtered_dict[key]=value\n",
    "    return filtered_dict\n",
    "\n",
    "filter_int(A=10,B=10.5,C='Yo')"
   ]
  },
  {
   "cell_type": "code",
   "execution_count": 8,
   "id": "9d9bc09c",
   "metadata": {},
   "outputs": [
    {
     "data": {
      "text/plain": [
       "{'A': 10}"
      ]
     },
     "execution_count": 8,
     "metadata": {},
     "output_type": "execute_result"
    }
   ],
   "source": [
    "# Better approach\n",
    "def filter_int(**kwargs):\n",
    "    return {key:value for key,value in kwargs.items() if isinstance(value,int)}\n",
    "\n",
    "filter_int(A=10,B=10.5,C='Yo')"
   ]
  },
  {
   "cell_type": "markdown",
   "id": "bebb99c9",
   "metadata": {},
   "source": [
    "\n",
    "### Assignment 4: Function with Callback\n",
    "\n",
    "Define a function that takes another function as a callback and a list of integers. The function should apply the callback to each integer in the list and return a new list with the results. Test with different callback functions.\n"
   ]
  },
  {
   "cell_type": "code",
   "execution_count": 9,
   "id": "60149094",
   "metadata": {},
   "outputs": [
    {
     "name": "stdout",
     "output_type": "stream",
     "text": [
      "[1, 4, 9, 16, 25, 36, 49, 64]\n",
      "[1, 8, 27, 64, 125, 216, 343, 512]\n",
      "[1, 16, 81, 256, 625, 1296, 2401, 4096]\n"
     ]
    }
   ],
   "source": [
    "# callback func : function passed as argument to another function\n",
    "def square(n):\n",
    "    return n*n\n",
    "\n",
    "def cube(n):\n",
    "    return n*n*n\n",
    "\n",
    "def apply_callback(callback,lst):\n",
    "    new_lst=[]\n",
    "    for i in lst:\n",
    "        new_lst.append(callback(i))\n",
    "    return new_lst    \n",
    "    \n",
    "lst = [1,2,3,4,5,6,7,8]\n",
    "print(apply_callback(square,lst))\n",
    "print(apply_callback(cube,lst))\n",
    "# using lambda as callback function\n",
    "print(apply_callback(lambda i:i*i*i*i,lst))"
   ]
  },
  {
   "cell_type": "markdown",
   "id": "665ea35e",
   "metadata": {},
   "source": [
    "\n",
    "### Assignment 5: Function that Returns a Function\n",
    "\n",
    "Define a function that returns another function. The returned function should take an integer and return its square. Test the returned function with different inputs.\n"
   ]
  },
  {
   "cell_type": "code",
   "execution_count": 10,
   "id": "4ce987e5",
   "metadata": {},
   "outputs": [
    {
     "name": "stdout",
     "output_type": "stream",
     "text": [
      "16\n",
      "25\n"
     ]
    }
   ],
   "source": [
    "def func():\n",
    "    def square(n):\n",
    "        return n*n\n",
    "    return square\n",
    "\n",
    "\n",
    "# To call\n",
    "print(func()(4))    # Method 1\n",
    "\n",
    "a = func()\n",
    "print(a(5))         # Method 2"
   ]
  },
  {
   "cell_type": "markdown",
   "id": "527122cf",
   "metadata": {},
   "source": [
    "\n",
    "### Assignment 6: Function with Decorators\n",
    "\n",
    "Define a function that calculates the time taken to execute another function. Apply this decorator to a function that performs a complex calculation. Test the decorated function with different inputs.\n"
   ]
  },
  {
   "cell_type": "code",
   "execution_count": 14,
   "id": "90bfc9a4",
   "metadata": {},
   "outputs": [
    {
     "name": "stdout",
     "output_type": "stream",
     "text": [
      "4999999950000000\n",
      "The time taken is 5.547986268997192\n"
     ]
    }
   ],
   "source": [
    "# for a simple function (non-recurrsive)\n",
    "def measure_time(function):\n",
    "    def wrapper(*args,**kwargs):\n",
    "        t = time.time()\n",
    "        value = function(*args,**kwargs)\n",
    "        print(value)\n",
    "        print(f\"The time taken is {time.time()-t}\")\n",
    "    return wrapper\n",
    "\n",
    "@measure_time\n",
    "def complex_calculation(n):\n",
    "    return sum(i for i in range(n))\n",
    "\n",
    "\n",
    "complex_calculation(100000000)\n"
   ]
  },
  {
   "cell_type": "code",
   "execution_count": 19,
   "id": "a0d3b371",
   "metadata": {},
   "outputs": [
    {
     "name": "stdout",
     "output_type": "stream",
     "text": [
      "1\n",
      "The time taken is 6.747245788574219e-05\n",
      "2\n",
      "The time taken is 8.606910705566406e-05\n",
      "6\n",
      "The time taken is 9.775161743164062e-05\n"
     ]
    },
    {
     "data": {
      "text/plain": [
       "6"
      ]
     },
     "execution_count": 19,
     "metadata": {},
     "output_type": "execute_result"
    }
   ],
   "source": [
    "# For recursive function things are a bit complex, since they call themselvves again and again the \n",
    "# wrapper also gets called again and again\n",
    "#  i.e factorial(3) -> measure_time wrapper -> factorial(2) -> measure_time wrapper -> factorial(1) -> measure_time wrapper -> factorial(0)\n",
    "\n",
    "\n",
    "def measure_time(function):\n",
    "    def wrapper(*args,**kwargs):\n",
    "        t = time.time()\n",
    "        value = function(*args,**kwargs)\n",
    "        print(value)\n",
    "        print(f\"The time taken is {time.time()-t}\")\n",
    "        return value\n",
    "    return wrapper\n",
    " \n",
    "\n",
    "@measure_time\n",
    "def factorial(n):\n",
    "    if n<0:\n",
    "        return \"Error! Enter valid number\"\n",
    "    if n==0 or n==1:\n",
    "        return 1\n",
    "    return n*factorial(n-1)\n",
    "\n",
    "factorial(3)"
   ]
  },
  {
   "cell_type": "code",
   "execution_count": 43,
   "id": "aa5e1d97",
   "metadata": {},
   "outputs": [
    {
     "name": "stdout",
     "output_type": "stream",
     "text": [
      "The time taken is : 0.000005\n",
      "The result is 6\n",
      "The time taken is : 0.000012\n",
      "The result is 2432902008176640000\n"
     ]
    }
   ],
   "source": [
    "# Solved \n",
    "'''\n",
    "We will use a flag to check if the function is currently running or not.\n",
    "If it is running, \n",
    "then we will call the function without measuring execution time to avoid redundant timing during recursive calls \n",
    " '''\n",
    "\n",
    "def measure_time(function):\n",
    "    is_running = [False]\n",
    "    def wrapper(*args,**kwargs):\n",
    "        \n",
    "        if not is_running[0]:         # i.e if is_running==False\n",
    "            is_running[0]=True\n",
    "            start_time = time.perf_counter()      # Time start\n",
    "            result = function(*args,**kwargs)     # calculate function\n",
    "            end_time = time.perf_counter()        # Time end\n",
    "            print(f\"The time taken is : {end_time-start_time:.6f}\")\n",
    "            print(f\"The result is {result}\")\n",
    "            is_running[0]=False\n",
    "            \n",
    "        else :\n",
    "            return function(*args,**kwargs)\n",
    "    return wrapper\n",
    "\n",
    "@measure_time\n",
    "def factorial(n):\n",
    "    if n<0:\n",
    "        return \"Error! Enter valid number\"\n",
    "    if n==0 or n==1:\n",
    "        return 1\n",
    "    return n*factorial(n-1)\n",
    "\n",
    "factorial(3)\n",
    "factorial(20)\n",
    "\n",
    "# Ask gpt to explain this step by step"
   ]
  },
  {
   "cell_type": "markdown",
   "id": "1544709c",
   "metadata": {},
   "source": [
    "\n",
    "### Assignment 7: Higher-Order Function for Filtering and Mapping\n",
    "\n",
    "Define a higher-order function that takes two functions, a filter function and a map function, along with a list of integers. The higher-order function should first filter the integers using the filter function and then apply the map function to the filtered integers. Test with different filter and map functions.\n"
   ]
  },
  {
   "cell_type": "markdown",
   "id": "7fee6049",
   "metadata": {},
   "source": [
    "\n",
    "### Assignment 8: Function Composition\n",
    "\n",
    "Define a function that composes two functions, f and g, such that the result is f(g(x)). Test with different functions f and g.\n"
   ]
  },
  {
   "cell_type": "markdown",
   "id": "a0515706",
   "metadata": {},
   "source": [
    "\n",
    "### Assignment 9: Partial Function Application\n",
    "\n",
    "Use the functools.partial function to create a new function that multiplies its input by 2. Test the new function with different inputs.\n"
   ]
  },
  {
   "cell_type": "markdown",
   "id": "f8114032",
   "metadata": {},
   "source": [
    "\n",
    "### Assignment 10: Function with Error Handling\n",
    "\n",
    "Define a function that takes a list of integers and returns their average. The function should handle any errors that occur (e.g., empty list) and return None in such cases. Test with different inputs.\n"
   ]
  },
  {
   "cell_type": "markdown",
   "id": "3f8ffa34",
   "metadata": {},
   "source": [
    "\n",
    "### Assignment 11: Function with Generators\n",
    "\n",
    "Define a function that generates an infinite sequence of Fibonacci numbers. Test by printing the first 10 numbers in the sequence.\n"
   ]
  },
  {
   "cell_type": "markdown",
   "id": "39b7c18b",
   "metadata": {},
   "source": [
    "\n",
    "### Assignment 12: Currying\n",
    "\n",
    "Define a curried function that takes three arguments, one at a time, and returns their product. Test the function by providing arguments one at a time.\n"
   ]
  },
  {
   "cell_type": "markdown",
   "id": "fc9b5681",
   "metadata": {},
   "source": [
    "\n",
    "### Assignment 13: Function with Context Manager\n",
    "\n",
    "Define a function that uses a context manager to write a list of integers to a file. The function should handle any errors that occur during file operations. Test with different lists.\n"
   ]
  },
  {
   "cell_type": "markdown",
   "id": "9145b4c5",
   "metadata": {},
   "source": [
    "\n",
    "### Assignment 14: Function with Multiple Return Types\n",
    "\n",
    "Define a function that takes a list of mixed data types (integers, strings, and floats) and returns three lists: one containing all the integers, one containing all the strings, and one containing all the floats. Test with different inputs.\n"
   ]
  },
  {
   "cell_type": "markdown",
   "id": "99bbe7f0",
   "metadata": {},
   "source": [
    "\n",
    "### Assignment 15: Function with State\n",
    "\n",
    "Define a function that maintains state between calls using a mutable default argument. The function should keep track of how many times it has been called. Test by calling the function multiple times."
   ]
  },
  {
   "cell_type": "code",
   "execution_count": null,
   "metadata": {},
   "outputs": [],
   "source": []
  }
 ],
 "metadata": {
  "kernelspec": {
   "display_name": "env",
   "language": "python",
   "name": "python3"
  },
  "language_info": {
   "codemirror_mode": {
    "name": "ipython",
    "version": 3
   },
   "file_extension": ".py",
   "mimetype": "text/x-python",
   "name": "python",
   "nbconvert_exporter": "python",
   "pygments_lexer": "ipython3",
   "version": "3.13.1"
  }
 },
 "nbformat": 4,
 "nbformat_minor": 5
}
