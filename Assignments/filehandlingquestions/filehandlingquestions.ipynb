{
 "cells": [
  {
   "cell_type": "markdown",
   "metadata": {},
   "source": [
    "# Module: File Handling Assignments\n"
   ]
  },
  {
   "cell_type": "markdown",
   "id": "7f938551",
   "metadata": {},
   "source": [
    "## Lesson: File Handling and Operations\n",
    "### Assignment 1: Reading a File\n",
    "\n",
    "Write a function that reads the contents of a file named `sample.txt` and prints each line.\n"
   ]
  },
  {
   "cell_type": "code",
   "execution_count": 20,
   "id": "02e5444f",
   "metadata": {},
   "outputs": [
    {
     "name": "stdout",
     "output_type": "stream",
     "text": [
      "Hey yo wassap\n",
      "\n",
      "hey Yo Wassap\n"
     ]
    }
   ],
   "source": [
    "def read_file(filename):\n",
    "    with open(filename,'r') as file:\n",
    "        for line in file:\n",
    "            print(line)\n",
    "\n",
    "read_file(\"sample.txt\")"
   ]
  },
  {
   "cell_type": "markdown",
   "id": "1e9ecf17",
   "metadata": {},
   "source": [
    "\n",
    "### Assignment 2: Writing to a File\n",
    "\n",
    "Write a function that writes a list of strings to a file named `output.txt`, with each string on a new line.\n"
   ]
  },
  {
   "cell_type": "code",
   "execution_count": 21,
   "id": "51f600ad",
   "metadata": {},
   "outputs": [],
   "source": [
    "# Method 1\n",
    "def write_str(filename,lst=None):\n",
    "    if lst==None:\n",
    "        lst = []\n",
    "    with open(filename,'w') as file:\n",
    "        for i in lst:\n",
    "            file.write(f\"{i}\\n\")\n",
    "write_str('output.txt',lst=['hey','yo','wassap'])"
   ]
  },
  {
   "cell_type": "code",
   "execution_count": 22,
   "id": "93318652",
   "metadata": {},
   "outputs": [],
   "source": [
    "def write_str(filename,lst=None):\n",
    "    if lst==None:\n",
    "        lst=[]\n",
    "    with open(filename,'w') as file:\n",
    "        file.writelines(f\"{i}\\n\" for i in lst)     #writelines takes generator as argument directly so we dont have to use loop\n",
    "\n",
    "write_str('output.txt',lst=['hey','yo','WAssap'])"
   ]
  },
  {
   "cell_type": "code",
   "execution_count": 23,
   "id": "6b7d2808",
   "metadata": {},
   "outputs": [],
   "source": [
    "def write_str(filename,lst=None):\n",
    "    if lst==None:\n",
    "        lst=[]\n",
    "    with open(filename,'w') as file:\n",
    "        for i in lst:\n",
    "            print(i,file=file)\n",
    "\n",
    "write_str('output.txt',lst=['hey','yo','wussap'])"
   ]
  },
  {
   "cell_type": "markdown",
   "id": "1e31b9ef",
   "metadata": {},
   "source": [
    "\n",
    "### Assignment 3: Copying a File\n",
    "\n",
    "Write a function that copies the contents of a file named `source.txt` to a new file named `destination.txt`.\n"
   ]
  },
  {
   "cell_type": "code",
   "execution_count": 24,
   "id": "51ab9178",
   "metadata": {},
   "outputs": [],
   "source": [
    "def copy(source,destination):\n",
    "    with open(source,'r') as file:\n",
    "        content = file.read()\n",
    "    with open(destination,'a') as file:\n",
    "        file.write(content)"
   ]
  },
  {
   "cell_type": "code",
   "execution_count": 26,
   "id": "729dd9eb",
   "metadata": {},
   "outputs": [],
   "source": [
    "copy('source.txt','destination.txt')"
   ]
  },
  {
   "cell_type": "markdown",
   "id": "903b995b",
   "metadata": {},
   "source": [
    "\n",
    "### Assignment 4: Appending to a File\n",
    "\n",
    "Write a function that appends a given string to the end of a file named `log.txt`.\n"
   ]
  },
  {
   "cell_type": "code",
   "execution_count": 10,
   "id": "e0c8a053",
   "metadata": {},
   "outputs": [],
   "source": [
    "def append_str(filename,string):\n",
    "    with open(filename,'a') as file:\n",
    "        file.write(string+\"\\n\")\n",
    "\n",
    "append_str(\"log.txt\",\"Hey this iss log file of question4\")"
   ]
  },
  {
   "cell_type": "markdown",
   "id": "69116e4c",
   "metadata": {},
   "source": [
    "\n",
    "### Assignment 5: Counting Words in a File\n",
    "\n",
    "Write a function that reads the contents of a file named `document.txt` and returns the number of words in the file.\n"
   ]
  },
  {
   "cell_type": "code",
   "execution_count": 11,
   "id": "d830e667",
   "metadata": {},
   "outputs": [
    {
     "data": {
      "text/plain": [
       "21"
      ]
     },
     "execution_count": 11,
     "metadata": {},
     "output_type": "execute_result"
    }
   ],
   "source": [
    "def num_words(filename):\n",
    "    with open(filename,'r') as file:\n",
    "        content = file.read()\n",
    "        words = content.split()\n",
    "        return len(words)\n",
    "    \n",
    "num_words(\"log.txt\")"
   ]
  },
  {
   "cell_type": "markdown",
   "id": "e1b9b68e",
   "metadata": {},
   "source": [
    "\n",
    "### Assignment 6: Finding and Replacing Text\n",
    "\n",
    "Write a function that finds and replaces all occurrences of a given word in a file named `data.txt` with another word.\n"
   ]
  },
  {
   "cell_type": "code",
   "execution_count": 12,
   "id": "17c96079",
   "metadata": {},
   "outputs": [],
   "source": [
    "def replaceW(filename,old_word,new_word):\n",
    "    with open(filename,'r') as file:\n",
    "        content = file.read()\n",
    "        new_content = content.replace(old_word,new_word)\n",
    "    with open(filename,'w') as file:\n",
    "        file.write(new_content)\n",
    "\n",
    "replaceW(\"log.txt\",\"log\",\"pog\")"
   ]
  },
  {
   "cell_type": "markdown",
   "id": "ebe76f2a",
   "metadata": {},
   "source": [
    "\n",
    "### Assignment 7: Reading a File in Reverse\n",
    "\n",
    "Write a function that reads the contents of a file named `reverse.txt` and prints each line in reverse order.\n"
   ]
  },
  {
   "cell_type": "code",
   "execution_count": null,
   "id": "6086e3fb",
   "metadata": {},
   "outputs": [
    {
     "data": {
      "text/plain": [
       "[None]"
      ]
     },
     "execution_count": 18,
     "metadata": {},
     "output_type": "execute_result"
    }
   ],
   "source": [
    "lst= [1,2,3,4]\n",
    "\n"
   ]
  },
  {
   "cell_type": "code",
   "execution_count": 20,
   "id": "63b59e71",
   "metadata": {},
   "outputs": [
    {
     "name": "stdout",
     "output_type": "stream",
     "text": [
      "wussap\n",
      "yo\n",
      "hey\n"
     ]
    }
   ],
   "source": [
    "def read_reverse(filename):\n",
    "    lines = []\n",
    "    with open(filename,'r') as file:\n",
    "        for line in file:\n",
    "            lines.append(line)\n",
    "    lines.reverse()\n",
    "    for i in lines:\n",
    "        print(i,end=\"\")\n",
    "\n",
    "read_reverse(\"output.txt\")"
   ]
  },
  {
   "cell_type": "markdown",
   "id": "3eee0d00",
   "metadata": {},
   "source": [
    "\n",
    "### Assignment 8: Counting Lines, Words, and Characters\n",
    "\n",
    "Write a function that reads the contents of a file named `stats.txt` and returns the number of lines, words, and characters in the file.\n"
   ]
  },
  {
   "cell_type": "code",
   "execution_count": null,
   "id": "6a70a80f",
   "metadata": {},
   "outputs": [],
   "source": []
  },
  {
   "cell_type": "markdown",
   "id": "8a7f27ac",
   "metadata": {},
   "source": [
    "\n",
    "### Assignment 9: Merging Multiple Files\n",
    "\n",
    "Write a function that merges the contents of multiple files into a single file named `merged.txt`.\n"
   ]
  },
  {
   "cell_type": "markdown",
   "id": "8ead14ea",
   "metadata": {},
   "source": [
    "\n",
    "### Assignment 10: Splitting a Large File\n",
    "\n",
    "Write a function that splits a large file named `large.txt` into smaller files of 100 lines each.\n"
   ]
  },
  {
   "cell_type": "markdown",
   "id": "142be211",
   "metadata": {},
   "source": [
    "\n",
    "### Assignment 11: Creating a Log File\n",
    "\n",
    "Write a function that creates a log file named `activity.log` and writes log messages with timestamps.\n"
   ]
  },
  {
   "cell_type": "markdown",
   "id": "204e10f1",
   "metadata": {},
   "source": [
    "\n",
    "### Assignment 12: Binary File Operations\n",
    "\n",
    "Write a function that reads a binary file named `image.bin` and writes its contents to another binary file named `copy_image.bin`.\n"
   ]
  },
  {
   "cell_type": "markdown",
   "id": "27e792df",
   "metadata": {},
   "source": [
    "\n",
    "### Assignment 13: CSV File Operations\n",
    "\n",
    "Write a function that reads a CSV file named `data.csv` and prints its contents as a list of dictionaries.\n"
   ]
  },
  {
   "cell_type": "markdown",
   "id": "391bc7e6",
   "metadata": {},
   "source": [
    "\n",
    "### Assignment 14: JSON File Operations\n",
    "\n",
    "Write a function that reads a JSON file named `data.json` and prints its contents as a Python dictionary.\n"
   ]
  },
  {
   "cell_type": "markdown",
   "id": "b22e2dd4",
   "metadata": {},
   "source": [
    "\n",
    "### Assignment 15: File Permission Handling\n",
    "\n",
    "Write a function that attempts to read a file named `protected.txt` and handles any permission errors gracefully by printing an error message."
   ]
  },
  {
   "cell_type": "code",
   "execution_count": null,
   "metadata": {},
   "outputs": [],
   "source": []
  }
 ],
 "metadata": {
  "kernelspec": {
   "display_name": "env",
   "language": "python",
   "name": "python3"
  },
  "language_info": {
   "codemirror_mode": {
    "name": "ipython",
    "version": 3
   },
   "file_extension": ".py",
   "mimetype": "text/x-python",
   "name": "python",
   "nbconvert_exporter": "python",
   "pygments_lexer": "ipython3",
   "version": "3.13.1"
  }
 },
 "nbformat": 4,
 "nbformat_minor": 5
}
