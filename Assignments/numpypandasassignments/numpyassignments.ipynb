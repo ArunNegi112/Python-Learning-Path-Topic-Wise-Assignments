{
 "cells": [
  {
   "cell_type": "markdown",
   "metadata": {},
   "source": [
    "# Module: NumPy Assignments\n",
    "## Lesson: NumPy\n"
   ]
  },
  {
   "cell_type": "code",
   "execution_count": 1,
   "id": "289d9a1f",
   "metadata": {},
   "outputs": [],
   "source": [
    "import numpy as np"
   ]
  },
  {
   "cell_type": "markdown",
   "id": "59eb3625",
   "metadata": {},
   "source": [
    "### Assignment 1: Array Creation and Manipulation\n",
    "\n",
    "1. Create a NumPy array of shape (5, 5) filled with random integers between 1 and 20. Replace all the elements in the third column with 1.\n"
   ]
  },
  {
   "cell_type": "code",
   "execution_count": 5,
   "id": "ae76c44b",
   "metadata": {},
   "outputs": [
    {
     "name": "stdout",
     "output_type": "stream",
     "text": [
      "[[19 16 17  7  8]\n",
      " [ 5  9 16 15 13]\n",
      " [ 2  3  6  8 11]\n",
      " [18 10  2 17 15]\n",
      " [ 3 10 10 19 11]]\n"
     ]
    }
   ],
   "source": [
    "arr1 = np.random.randint(1,20,size = (5,5))\n",
    "print(arr1)"
   ]
  },
  {
   "cell_type": "code",
   "execution_count": 6,
   "id": "3e22ca97",
   "metadata": {},
   "outputs": [
    {
     "name": "stdout",
     "output_type": "stream",
     "text": [
      "[[19 16  1  7  8]\n",
      " [ 5  9  1 15 13]\n",
      " [ 2  3  1  8 11]\n",
      " [18 10  1 17 15]\n",
      " [ 3 10  1 19 11]]\n"
     ]
    }
   ],
   "source": [
    "arr1[:,2] = 1\n",
    "print(arr1)"
   ]
  },
  {
   "cell_type": "markdown",
   "id": "4e7af7fe",
   "metadata": {},
   "source": [
    "\n",
    "2. Create a NumPy array of shape (4, 4) with values from 1 to 16. Replace the diagonal elements with 0.\n"
   ]
  },
  {
   "cell_type": "code",
   "execution_count": 14,
   "id": "dd006ede",
   "metadata": {},
   "outputs": [
    {
     "name": "stdout",
     "output_type": "stream",
     "text": [
      "[[ 1  2  3  4]\n",
      " [ 5  6  7  8]\n",
      " [ 9 10 11 12]\n",
      " [13 14 15 16]]\n"
     ]
    }
   ],
   "source": [
    "arr1 = np.arange(1,17).reshape(4,4)\n",
    "print(arr1)"
   ]
  },
  {
   "cell_type": "code",
   "execution_count": 16,
   "id": "565550d4",
   "metadata": {},
   "outputs": [
    {
     "data": {
      "text/plain": [
       "array([[ 0,  2,  3,  4],\n",
       "       [ 5,  0,  7,  8],\n",
       "       [ 9, 10,  0, 12],\n",
       "       [13, 14, 15,  0]])"
      ]
     },
     "execution_count": 16,
     "metadata": {},
     "output_type": "execute_result"
    }
   ],
   "source": [
    "np.fill_diagonal(arr1,0)\n",
    "arr1"
   ]
  },
  {
   "cell_type": "markdown",
   "id": "2d4eddc7",
   "metadata": {},
   "source": [
    "\n",
    "### Assignment 2: Array Indexing and Slicing\n",
    "\n",
    "1. Create a NumPy array of shape (6, 6) with values from 1 to 36. Extract the sub-array consisting of the 3rd to 5th rows and 2nd to 4th columns.\n"
   ]
  },
  {
   "cell_type": "code",
   "execution_count": 20,
   "id": "f6467d6b",
   "metadata": {},
   "outputs": [
    {
     "name": "stdout",
     "output_type": "stream",
     "text": [
      "Original array : \n",
      " [[ 1  2  3  4  5  6]\n",
      " [ 7  8  9 10 11 12]\n",
      " [13 14 15 16 17 18]\n",
      " [19 20 21 22 23 24]\n",
      " [25 26 27 28 29 30]\n",
      " [31 32 33 34 35 36]]\n",
      "Sub array \n",
      " [[14 15 16]\n",
      " [20 21 22]\n",
      " [26 27 28]]\n"
     ]
    }
   ],
   "source": [
    "arr2 = np.arange(1,37).reshape(6,6)\n",
    "print(f\"Original array : \\n {arr2}\")\n",
    "\n",
    "sub_arr2 = arr2[2:5,1:4]\n",
    "print(f\"Sub array \\n {sub_arr2}\")"
   ]
  },
  {
   "cell_type": "markdown",
   "id": "4b9ee96e",
   "metadata": {},
   "source": [
    "\n",
    "2. Create a NumPy array of shape (5, 5) with random integers. Extract the elements on the border.\n"
   ]
  },
  {
   "cell_type": "code",
   "execution_count": 30,
   "id": "8bb65b8c",
   "metadata": {},
   "outputs": [
    {
     "name": "stdout",
     "output_type": "stream",
     "text": [
      "Original array :\n",
      " [[14  1 17 19 17]\n",
      " [10  6  3 18  4]\n",
      " [19 16 17 10  9]\n",
      " [15  9  5  3 13]\n",
      " [ 9 16 17 11 19]]\n",
      "Border elements : \n",
      " [14  1 17 19 17  9 16 17 11 19 10 19 15  4  9 13]\n"
     ]
    }
   ],
   "source": [
    "arr2 = np.random.randint(1,20,size = (5,5))\n",
    "print(f\"Original array :\\n {arr2}\")\n",
    "\n",
    "border = np.concat((arr2[0,:] , arr2[-1,:] , arr2[1:-1,0] , arr2[1:-1,-1]))\n",
    "print(f\"Border elements : \\n {border}\")"
   ]
  },
  {
   "cell_type": "code",
   "execution_count": 21,
   "id": "324209f6",
   "metadata": {},
   "outputs": [
    {
     "name": "stdout",
     "output_type": "stream",
     "text": [
      "Original array :\n",
      " [[11 13 13  6 12]\n",
      " [18 14  5 18  3]\n",
      " [ 5  4 10 14  7]\n",
      " [ 3  5 16  4 17]\n",
      " [14  4  3 16  5]]\n",
      "Elements on corner : \n",
      " [11 12 14  5]\n"
     ]
    }
   ],
   "source": [
    "arr2 = np.random.randint(1,20,size = (5,5))\n",
    "print(f\"Original array :\\n {arr2}\")\n",
    "\n",
    "extract = arr2[[0,0,-1,-1],[0,-1,0,-1]]\n",
    "print(f\"Elements on corner : \\n {extract}\")"
   ]
  },
  {
   "cell_type": "markdown",
   "id": "6a2bc96a",
   "metadata": {},
   "source": [
    "\n",
    "### Assignment 3: Array Operations\n",
    "\n",
    "1. Create two NumPy arrays of shape (3, 4) filled with random integers. Perform element-wise addition, subtraction, multiplication, and division.\n",
    "2. Create a NumPy array of shape (4, 4) with values from 1 to 16. Compute the row-wise and column-wise sum.\n"
   ]
  },
  {
   "cell_type": "markdown",
   "id": "5c98c357",
   "metadata": {},
   "source": [
    "\n",
    "### Assignment 4: Statistical Operations\n",
    "\n",
    "1. Create a NumPy array of shape (5, 5) filled with random integers. Compute the mean, median, standard deviation, and variance of the array.\n",
    "2. Create a NumPy array of shape (3, 3) with values from 1 to 9. Normalize the array (i.e., scale the values to have a mean of 0 and a standard deviation of 1).\n"
   ]
  },
  {
   "cell_type": "markdown",
   "id": "06596ea8",
   "metadata": {},
   "source": [
    "\n",
    "### Assignment 5: Broadcasting\n",
    "\n",
    "1. Create a NumPy array of shape (3, 3) filled with random integers. Add a 1D array of shape (3,) to each row of the 2D array using broadcasting.\n",
    "2. Create a NumPy array of shape (4, 4) filled with random integers. Subtract a 1D array of shape (4,) from each column of the 2D array using broadcasting.\n"
   ]
  },
  {
   "cell_type": "markdown",
   "id": "7aa6f063",
   "metadata": {},
   "source": [
    "\n",
    "### Assignment 6: Linear Algebra\n",
    "\n",
    "1. Create a NumPy array of shape (3, 3) representing a matrix. Compute its determinant, inverse, and eigenvalues.\n",
    "2. Create two NumPy arrays of shape (2, 3) and (3, 2). Perform matrix multiplication on these arrays.\n"
   ]
  },
  {
   "cell_type": "markdown",
   "id": "8198be14",
   "metadata": {},
   "source": [
    "\n",
    "### Assignment 7: Advanced Array Manipulation\n",
    "\n",
    "1. Create a NumPy array of shape (3, 3) with values from 1 to 9. Reshape the array to shape (1, 9) and then to shape (9, 1).\n",
    "2. Create a NumPy array of shape (5, 5) filled with random integers. Flatten the array and then reshape it back to (5, 5).\n"
   ]
  },
  {
   "cell_type": "markdown",
   "id": "ee656bf4",
   "metadata": {},
   "source": [
    "\n",
    "### Assignment 8: Fancy Indexing and Boolean Indexing\n",
    "\n",
    "1. Create a NumPy array of shape (5, 5) filled with random integers. Use fancy indexing to extract the elements at the corners of the array.\n",
    "2. Create a NumPy array of shape (4, 4) filled with random integers. Use boolean indexing to set all elements greater than 10 to 10.\n"
   ]
  },
  {
   "cell_type": "markdown",
   "id": "06748dc1",
   "metadata": {},
   "source": [
    "\n",
    "### Assignment 9: Structured Arrays\n",
    "\n",
    "1. Create a structured array with fields 'name' (string), 'age' (integer), and 'weight' (float). Add some data and sort the array by age.\n",
    "2. Create a structured array with fields 'x' and 'y' (both integers). Add some data and compute the Euclidean distance between each pair of points.\n"
   ]
  },
  {
   "cell_type": "markdown",
   "id": "b7a43f21",
   "metadata": {},
   "source": [
    "\n",
    "### Assignment 10: Masked Arrays\n",
    "\n",
    "1. Create a masked array of shape (4, 4) with random integers and mask the elements greater than 10. Compute the sum of the unmasked elements.\n",
    "2. Create a masked array of shape (3, 3) with random integers and mask the diagonal elements. Replace the masked elements with the mean of the unmasked elements."
   ]
  },
  {
   "cell_type": "code",
   "execution_count": null,
   "metadata": {},
   "outputs": [],
   "source": []
  }
 ],
 "metadata": {
  "kernelspec": {
   "display_name": "env",
   "language": "python",
   "name": "python3"
  },
  "language_info": {
   "codemirror_mode": {
    "name": "ipython",
    "version": 3
   },
   "file_extension": ".py",
   "mimetype": "text/x-python",
   "name": "python",
   "nbconvert_exporter": "python",
   "pygments_lexer": "ipython3",
   "version": "3.13.1"
  }
 },
 "nbformat": 4,
 "nbformat_minor": 5
}
