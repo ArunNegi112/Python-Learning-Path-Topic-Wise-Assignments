{
 "cells": [
  {
   "cell_type": "markdown",
   "metadata": {},
   "source": [
    "# Module: NumPy Assignments\n",
    "## Lesson: NumPy\n"
   ]
  },
  {
   "cell_type": "code",
   "execution_count": 2,
   "id": "289d9a1f",
   "metadata": {},
   "outputs": [],
   "source": [
    "import numpy as np"
   ]
  },
  {
   "cell_type": "markdown",
   "id": "59eb3625",
   "metadata": {},
   "source": [
    "### Assignment 1: Array Creation and Manipulation\n",
    "\n",
    "1. Create a NumPy array of shape (5, 5) filled with random integers between 1 and 20. Replace all the elements in the third column with 1.\n"
   ]
  },
  {
   "cell_type": "code",
   "execution_count": 3,
   "id": "ae76c44b",
   "metadata": {},
   "outputs": [
    {
     "name": "stdout",
     "output_type": "stream",
     "text": [
      "[[ 4 12 13  9  6]\n",
      " [15 12 15  9 18]\n",
      " [13 10  9 19 19]\n",
      " [14  1 13  8  4]\n",
      " [11  9 17 18 15]]\n"
     ]
    }
   ],
   "source": [
    "arr1 = np.random.randint(1,20,size = (5,5))\n",
    "print(arr1)"
   ]
  },
  {
   "cell_type": "code",
   "execution_count": 4,
   "id": "3e22ca97",
   "metadata": {},
   "outputs": [
    {
     "name": "stdout",
     "output_type": "stream",
     "text": [
      "[[ 4 12  1  9  6]\n",
      " [15 12  1  9 18]\n",
      " [13 10  1 19 19]\n",
      " [14  1  1  8  4]\n",
      " [11  9  1 18 15]]\n"
     ]
    }
   ],
   "source": [
    "arr1[:,2] = 1\n",
    "print(arr1)"
   ]
  },
  {
   "cell_type": "markdown",
   "id": "4e7af7fe",
   "metadata": {},
   "source": [
    "\n",
    "2. Create a NumPy array of shape (4, 4) with values from 1 to 16. Replace the diagonal elements with 0.\n"
   ]
  },
  {
   "cell_type": "code",
   "execution_count": 5,
   "id": "dd006ede",
   "metadata": {},
   "outputs": [
    {
     "name": "stdout",
     "output_type": "stream",
     "text": [
      "[[ 1  2  3  4]\n",
      " [ 5  6  7  8]\n",
      " [ 9 10 11 12]\n",
      " [13 14 15 16]]\n"
     ]
    }
   ],
   "source": [
    "arr1 = np.arange(1,17).reshape(4,4)\n",
    "print(arr1)"
   ]
  },
  {
   "cell_type": "code",
   "execution_count": 6,
   "id": "565550d4",
   "metadata": {},
   "outputs": [
    {
     "data": {
      "text/plain": [
       "array([[ 0,  2,  3,  4],\n",
       "       [ 5,  0,  7,  8],\n",
       "       [ 9, 10,  0, 12],\n",
       "       [13, 14, 15,  0]])"
      ]
     },
     "execution_count": 6,
     "metadata": {},
     "output_type": "execute_result"
    }
   ],
   "source": [
    "np.fill_diagonal(arr1,0)\n",
    "arr1"
   ]
  },
  {
   "cell_type": "markdown",
   "id": "2d4eddc7",
   "metadata": {},
   "source": [
    "\n",
    "### Assignment 2: Array Indexing and Slicing\n",
    "\n",
    "1. Create a NumPy array of shape (6, 6) with values from 1 to 36. Extract the sub-array consisting of the 3rd to 5th rows and 2nd to 4th columns.\n"
   ]
  },
  {
   "cell_type": "code",
   "execution_count": 7,
   "id": "f6467d6b",
   "metadata": {},
   "outputs": [
    {
     "name": "stdout",
     "output_type": "stream",
     "text": [
      "Original array : \n",
      " [[ 1  2  3  4  5  6]\n",
      " [ 7  8  9 10 11 12]\n",
      " [13 14 15 16 17 18]\n",
      " [19 20 21 22 23 24]\n",
      " [25 26 27 28 29 30]\n",
      " [31 32 33 34 35 36]]\n",
      "Sub array \n",
      " [[14 15 16]\n",
      " [20 21 22]\n",
      " [26 27 28]]\n"
     ]
    }
   ],
   "source": [
    "arr2 = np.arange(1,37).reshape(6,6)\n",
    "print(f\"Original array : \\n {arr2}\")\n",
    "\n",
    "sub_arr2 = arr2[2:5,1:4]\n",
    "print(f\"Sub array \\n {sub_arr2}\")"
   ]
  },
  {
   "cell_type": "markdown",
   "id": "4b9ee96e",
   "metadata": {},
   "source": [
    "\n",
    "2. Create a NumPy array of shape (5, 5) with random integers. Extract the elements on the border.\n"
   ]
  },
  {
   "cell_type": "code",
   "execution_count": 8,
   "id": "8bb65b8c",
   "metadata": {},
   "outputs": [
    {
     "name": "stdout",
     "output_type": "stream",
     "text": [
      "Original array :\n",
      " [[10  1 14  4  1]\n",
      " [18  2  5 19  8]\n",
      " [ 5  4 12  5  7]\n",
      " [14 13  2  5  5]\n",
      " [ 4  8 18 15 12]]\n",
      "Border elements : \n",
      " [10  1 14  4  1  4  8 18 15 12 18  5 14  8  7  5]\n"
     ]
    }
   ],
   "source": [
    "arr2 = np.random.randint(1,20,size = (5,5))\n",
    "print(f\"Original array :\\n {arr2}\")\n",
    "\n",
    "border = np.concatenate((arr2[0,:] , arr2[-1,:] , arr2[1:-1,0] , arr2[1:-1,-1]))\n",
    "print(f\"Border elements : \\n {border}\")"
   ]
  },
  {
   "cell_type": "markdown",
   "id": "6a2bc96a",
   "metadata": {},
   "source": [
    "\n",
    "### Assignment 3: Array Operations\n",
    "\n",
    "1. Create two NumPy arrays of shape (3, 4) filled with random integers. Perform element-wise addition, subtraction, multiplication, and division.\n"
   ]
  },
  {
   "cell_type": "code",
   "execution_count": 9,
   "id": "9eb0feb4",
   "metadata": {},
   "outputs": [
    {
     "name": "stdout",
     "output_type": "stream",
     "text": [
      "Original arrays \n",
      " [[1 2 2 8]\n",
      " [9 8 8 3]\n",
      " [5 7 5 5]] \n",
      " [[8 9 4 1]\n",
      " [4 5 6 1]\n",
      " [3 8 5 2]]\n",
      "Element wise sum \n",
      " [[ 9 11  6  9]\n",
      " [13 13 14  4]\n",
      " [ 8 15 10  7]]\n",
      "Element wise sub \n",
      " [[-7 -7 -2  7]\n",
      " [ 5  3  2  2]\n",
      " [ 2 -1  0  3]]\n",
      "Element wise mult \n",
      " [[ 8 18  8  8]\n",
      " [36 40 48  3]\n",
      " [15 56 25 10]]\n",
      "Element wise div \n",
      " [[0.125      0.22222222 0.5        8.        ]\n",
      " [2.25       1.6        1.33333333 3.        ]\n",
      " [1.66666667 0.875      1.         2.5       ]]\n",
      "Element wise division \n",
      "  [[0.125      0.22222222 0.5        8.        ]\n",
      " [2.25       1.6        1.33333333 3.        ]\n",
      " [1.66666667 0.875      1.         2.5       ]]\n"
     ]
    }
   ],
   "source": [
    "arr3a = np.random.randint(1,10,size = (3,4))\n",
    "arr3b = np.random.randint(1,10,size = (3,4))\n",
    "\n",
    "print(\"Original arrays \\n\",arr3a,\"\\n\",arr3b)\n",
    "\n",
    "print(\"Element wise sum \\n\",arr3a+arr3b)\n",
    "print(\"Element wise sub \\n\",arr3a-arr3b)\n",
    "print(\"Element wise mult \\n\",arr3a*arr3b)\n",
    "print(\"Element wise div \\n\",arr3a/arr3b)      # This may give Runtime error sometimes\n",
    "\n",
    "print(\"Element wise division \\n \", np.divide(arr3a,arr3b,where = True))"
   ]
  },
  {
   "cell_type": "markdown",
   "id": "7dbaf66a",
   "metadata": {},
   "source": [
    "\n",
    "2. Create a NumPy array of shape (4, 4) with values from 1 to 16. Compute the row-wise and column-wise sum.\n"
   ]
  },
  {
   "cell_type": "code",
   "execution_count": 10,
   "id": "caf44477",
   "metadata": {},
   "outputs": [
    {
     "name": "stdout",
     "output_type": "stream",
     "text": [
      "Original array :\n",
      " [[ 1  2  3  4]\n",
      " [ 5  6  7  8]\n",
      " [ 9 10 11 12]\n",
      " [13 14 15 16]]\n",
      "row wise sum :\n",
      " [10 26 42 58]\n",
      "column wise sum :\n",
      " [28 32 36 40]\n"
     ]
    }
   ],
   "source": [
    "arr3 = np.arange(1,17).reshape(4,4)\n",
    "\n",
    "print(f\"Original array :\\n {arr3}\")\n",
    "row_wise = np.sum(arr3,axis=1)\n",
    "column_wise = np.sum(arr3,axis=0)\n",
    "\n",
    "print(f\"row wise sum :\\n {row_wise}\")\n",
    "print(f\"column wise sum :\\n {column_wise}\")"
   ]
  },
  {
   "cell_type": "markdown",
   "id": "5c98c357",
   "metadata": {},
   "source": [
    "\n",
    "### Assignment 4: Statistical Operations\n",
    "\n",
    "1. Create a NumPy array of shape (5, 5) filled with random integers. Compute the mean, median, standard deviation, and variance of the array.\n"
   ]
  },
  {
   "cell_type": "code",
   "execution_count": 11,
   "id": "977aee22",
   "metadata": {},
   "outputs": [
    {
     "name": "stdout",
     "output_type": "stream",
     "text": [
      "Original array :\n",
      " [[12 18  9  5  5]\n",
      " [17  8  3 13  5]\n",
      " [15 12 15  8  1]\n",
      " [ 8  6  5 15  5]\n",
      " [11  5 17 14  4]]\n",
      "Mean : 9.44\n",
      "Median : 8.0\n",
      "Standard Deviation : 4.932180045375473\n",
      "Variance : 24.326400000000003\n"
     ]
    }
   ],
   "source": [
    "arr4 = np.random.randint(1,20,size= (5,5))\n",
    "print(f\"Original array :\\n {arr4}\")\n",
    "\n",
    "print(f\"Mean : {np.mean(arr4)}\")\n",
    "print(f\"Median : {np.median(arr4)}\")\n",
    "print(f\"Standard Deviation : {np.std(arr4)}\")\n",
    "print(f\"Variance : {np.var(arr4)}\")\n"
   ]
  },
  {
   "cell_type": "markdown",
   "id": "9510db77",
   "metadata": {},
   "source": [
    "\n",
    "2. Create a NumPy array of shape (3, 3) with values from 1 to 9. Normalize the array (i.e., scale the values to have a mean of 0 and a standard deviation of 1).\n"
   ]
  },
  {
   "cell_type": "code",
   "execution_count": 12,
   "id": "3315bdc8",
   "metadata": {},
   "outputs": [
    {
     "name": "stdout",
     "output_type": "stream",
     "text": [
      "[[ 0.51904026  1.73554086 -0.08921004 -0.90021045 -0.90021045]\n",
      " [ 1.53279076 -0.29196014 -1.30571065  0.72179036 -0.90021045]\n",
      " [ 1.12729056  0.51904026  1.12729056 -0.29196014 -1.71121085]\n",
      " [-0.29196014 -0.69746035 -0.90021045  1.12729056 -0.90021045]\n",
      " [ 0.31629016 -0.90021045  1.53279076  0.92454046 -1.10296055]]\n",
      "Mean : 0\n",
      "Median : -0.29196014475387555\n",
      "Standard Deviation : 1.0\n",
      "Variance : 1.0\n"
     ]
    }
   ],
   "source": [
    "normalized_arr = (arr4 - np.mean(arr4) )/ np.std(arr4)\n",
    "print(normalized_arr)\n",
    "\n",
    "# Formula : normalized arr = (arr - mean)/standard_deviation\n",
    "\n",
    "print(f\"Mean : {round(normalized_arr.mean())}\")\n",
    "print(f\"Median : {np.median(normalized_arr)}\")\n",
    "print(f\"Standard Deviation : {normalized_arr.std()}\")\n",
    "print(f\"Variance : {normalized_arr.var()}\")"
   ]
  },
  {
   "cell_type": "markdown",
   "id": "06596ea8",
   "metadata": {},
   "source": [
    "\n",
    "### Assignment 5: Broadcasting\n",
    "\n",
    "1. Create a NumPy array of shape (3, 3) filled with random integers. Add a 1D array of shape (3,) to each row of the 2D array using broadcasting.\n"
   ]
  },
  {
   "cell_type": "code",
   "execution_count": 13,
   "id": "e63a9293",
   "metadata": {},
   "outputs": [
    {
     "name": "stdout",
     "output_type": "stream",
     "text": [
      "Original array :\n",
      "[[4 4 1]\n",
      " [3 1 1]\n",
      " [3 4 4]]\n",
      "\n",
      "1D array :\n",
      "[1 2 3]\n",
      "\n",
      "Result :\n",
      "[[5 6 4]\n",
      " [4 3 4]\n",
      " [4 6 7]]\n"
     ]
    }
   ],
   "source": [
    "arr5 = np.random.randint(1,5,size=(3,3))\n",
    "print(f\"Original array :\\n{arr5}\\n\")\n",
    "\n",
    "_1d = np.arange(1,4)\n",
    "print(f\"1D array :\\n{_1d}\\n\")\n",
    "\n",
    "\n",
    "print(f\"Result :\\n{arr5+_1d}\")    # Row wise broadcasting of _1d, _1d (3,)-->(3,3)"
   ]
  },
  {
   "cell_type": "markdown",
   "id": "8d62e864",
   "metadata": {},
   "source": [
    "\n",
    "2. Create a NumPy array of shape (4, 4) filled with random integers. Subtract a 1D array of shape (4,) from each column of the 2D array using broadcasting.\n"
   ]
  },
  {
   "cell_type": "code",
   "execution_count": 14,
   "id": "fff8c1d0",
   "metadata": {},
   "outputs": [
    {
     "name": "stdout",
     "output_type": "stream",
     "text": [
      "[[ 1  2  3  4]\n",
      " [ 5  6  7  8]\n",
      " [ 9 10 11 12]\n",
      " [13 14 15 16]] \n",
      "\n",
      "[1 2 3 4] \n",
      "\n",
      "Column wise subtraction : \n",
      "[[ 0  1  2  3]\n",
      " [ 3  4  5  6]\n",
      " [ 6  7  8  9]\n",
      " [ 9 10 11 12]]\n"
     ]
    }
   ],
   "source": [
    "arr5 = np.arange(1,17).reshape(4,4)\n",
    "_1d = np.array([1,2,3,4])\n",
    "\n",
    "print(arr5,\"\\n\")\n",
    "print(_1d,\"\\n\")\n",
    "\n",
    "print(f\"Column wise subtraction : \\n{arr5-_1d.reshape(4,1)}\")"
   ]
  },
  {
   "cell_type": "markdown",
   "id": "7aa6f063",
   "metadata": {},
   "source": [
    "\n",
    "### Assignment 6: Linear Algebra\n",
    "\n",
    "1. Create a NumPy array of shape (3, 3) representing a matrix. Compute its determinant, inverse, and eigenvalues.\n"
   ]
  },
  {
   "cell_type": "code",
   "execution_count": 15,
   "id": "f29f7c8a",
   "metadata": {},
   "outputs": [
    {
     "name": "stdout",
     "output_type": "stream",
     "text": [
      "Origial matrix :\n",
      "[[1 2 3]\n",
      " [4 5 6]\n",
      " [7 8 9]]\n",
      "det :\n",
      "0.0\n",
      "eigen values :\n",
      "[ 1.61168440e+01 -1.11684397e+00 -1.30367773e-15]\n",
      "Singular matrix\n"
     ]
    }
   ],
   "source": [
    "arr6 = np.arange(1,10).reshape(3,3)\n",
    "print(f\"Origial matrix :\\n{arr6}\")\n",
    "\n",
    "\n",
    "det = np.linalg.det(arr6)\n",
    "eigenval = np.linalg.eigvals(arr6)\n",
    "print(f\"det :\\n{det}\")\n",
    "print(f\"eigen values :\\n{eigenval}\")\n",
    "try :\n",
    "    inv = np.linalg.inv(arr6)\n",
    "    print(f\"inverse :\\n{inv}\")\n",
    "except Exception as error :\n",
    "    print(error)\n"
   ]
  },
  {
   "cell_type": "markdown",
   "id": "71942a29",
   "metadata": {},
   "source": [
    "\n",
    "2. Create two NumPy arrays of shape (2, 3) and (3, 2). Perform matrix multiplication on these arrays.\n"
   ]
  },
  {
   "cell_type": "code",
   "execution_count": 16,
   "id": "e31d5899",
   "metadata": {},
   "outputs": [
    {
     "name": "stdout",
     "output_type": "stream",
     "text": [
      "Array1 :\n",
      "[[1 2 3]\n",
      " [4 5 6]]\n",
      "Array2 :\n",
      "[[1 2]\n",
      " [3 4]\n",
      " [5 6]]\n"
     ]
    },
    {
     "data": {
      "text/plain": [
       "array([[22, 28],\n",
       "       [49, 64]])"
      ]
     },
     "execution_count": 16,
     "metadata": {},
     "output_type": "execute_result"
    }
   ],
   "source": [
    "arr6_A = np.arange(1,7).reshape(2,3)\n",
    "arr6_B = np.arange(1,7).reshape(3,2)\n",
    "print(f\"Array1 :\\n{arr6_A}\")\n",
    "print(f\"Array2 :\\n{arr6_B}\")\n",
    "\n",
    "np.dot(arr6_A,arr6_B)"
   ]
  },
  {
   "cell_type": "markdown",
   "id": "8198be14",
   "metadata": {},
   "source": [
    "\n",
    "### Assignment 7: Advanced Array Manipulation\n",
    "\n",
    "1. Create a NumPy array of shape (3, 3) with values from 1 to 9. Reshape the array to shape (1, 9) and then to shape (9, 1).\n"
   ]
  },
  {
   "cell_type": "code",
   "execution_count": 17,
   "id": "bf5b22c4",
   "metadata": {},
   "outputs": [
    {
     "name": "stdout",
     "output_type": "stream",
     "text": [
      "Original array: \n",
      "[[1 2 3]\n",
      " [4 5 6]\n",
      " [7 8 9]]\n",
      "Reshaped:\n",
      "[[1 2 3 4 5 6 7 8 9]]\n",
      "Final array:\n",
      "[[1]\n",
      " [2]\n",
      " [3]\n",
      " [4]\n",
      " [5]\n",
      " [6]\n",
      " [7]\n",
      " [8]\n",
      " [9]]\n"
     ]
    }
   ],
   "source": [
    "arr7 = np.arange(1,10).reshape(3,3)\n",
    "print(f\"Original array: \\n{arr7}\")\n",
    "\n",
    "reshaped_Arr = arr7.reshape(1,9)\n",
    "print(f\"Reshaped:\\n{reshaped_Arr}\")\n",
    "\n",
    "again_reshaped = reshaped_Arr.reshape(9,1)\n",
    "print(f\"Final array:\\n{again_reshaped}\")"
   ]
  },
  {
   "cell_type": "markdown",
   "id": "13e838bb",
   "metadata": {},
   "source": [
    "\n",
    "2. Create a NumPy array of shape (5, 5) filled with random integers. Flatten the array and then reshape it back to (5, 5).\n"
   ]
  },
  {
   "cell_type": "code",
   "execution_count": 18,
   "id": "59604eee",
   "metadata": {},
   "outputs": [
    {
     "name": "stdout",
     "output_type": "stream",
     "text": [
      "Original array:\n",
      "[[9 5 1 5 9]\n",
      " [2 2 6 7 5]\n",
      " [7 1 8 2 6]\n",
      " [9 6 4 5 6]\n",
      " [8 3 6 6 9]]\n",
      "Flatten array:\n",
      "[9 5 1 5 9 2 2 6 7 5 7 1 8 2 6 9 6 4 5 6 8 3 6 6 9]\n",
      "Reshaped: \n",
      "[[9 5 1 5 9]\n",
      " [2 2 6 7 5]\n",
      " [7 1 8 2 6]\n",
      " [9 6 4 5 6]\n",
      " [8 3 6 6 9]]\n"
     ]
    }
   ],
   "source": [
    "arr7 = np.random.randint(1,10,size=(5,5))\n",
    "print(f\"Original array:\\n{arr7}\")\n",
    "\n",
    "flatten_Arr = arr7.flatten()\n",
    "print(f\"Flatten array:\\n{flatten_Arr}\")\n",
    "\n",
    "reshaped = flatten_Arr.reshape(5,5)\n",
    "print(f\"Reshaped: \\n{reshaped}\")"
   ]
  },
  {
   "cell_type": "markdown",
   "id": "ee656bf4",
   "metadata": {},
   "source": [
    "\n",
    "### Assignment 8: Fancy Indexing and Boolean Indexing\n",
    "\n",
    "1. Create a NumPy array of shape (5, 5) filled with random integers. Use fancy indexing to extract the elements at the corners of the array.\n"
   ]
  },
  {
   "cell_type": "code",
   "execution_count": 19,
   "id": "324209f6",
   "metadata": {},
   "outputs": [
    {
     "name": "stdout",
     "output_type": "stream",
     "text": [
      "Original array :\n",
      " [[10  1 14  4  1]\n",
      " [18  2  5 19  8]\n",
      " [ 5  4 12  5  7]\n",
      " [14 13  2  5  5]\n",
      " [ 4  8 18 15 12]]\n",
      "Elements on corner : \n",
      " [ 6  1 10 13]\n"
     ]
    }
   ],
   "source": [
    "arr8 = np.random.randint(1,20,size = (5,5))\n",
    "print(f\"Original array :\\n {arr2}\")\n",
    "\n",
    "extract = arr8[[0,0,-1,-1],[0,-1,0,-1]]\n",
    "print(f\"Elements on corner : \\n {extract}\")"
   ]
  },
  {
   "cell_type": "markdown",
   "id": "cf96f8e5",
   "metadata": {},
   "source": [
    "\n",
    "2. Create a NumPy array of shape (4, 4) filled with random integers. Use boolean indexing to set all elements greater than 10 to 10.\n"
   ]
  },
  {
   "cell_type": "code",
   "execution_count": 20,
   "id": "b4f7b6d3",
   "metadata": {},
   "outputs": [
    {
     "name": "stdout",
     "output_type": "stream",
     "text": [
      "original array:\n",
      "[[ 4  8  9 13]\n",
      " [ 1  4 13  7]\n",
      " [ 4  7  4  2]\n",
      " [ 2 10  9  4]]\n",
      "Modified array:\n",
      "[[ 4  8  9 10]\n",
      " [ 1  4 10  7]\n",
      " [ 4  7  4  2]\n",
      " [ 2 10  9  4]]\n"
     ]
    }
   ],
   "source": [
    "arr8 = np.random.randint(1,15,size=(4,4))\n",
    "print(f\"original array:\\n{arr8}\")\n",
    "\n",
    "arr8[arr8>10]=10\n",
    "print(f\"Modified array:\\n{arr8}\")"
   ]
  },
  {
   "cell_type": "markdown",
   "id": "06748dc1",
   "metadata": {},
   "source": [
    "\n",
    "### Assignment 9: Structured Arrays\n",
    "\n",
    "1. Create a structured array with fields 'name' (string), 'age' (integer), and 'weight' (float). Add some data and sort the array by age.\n"
   ]
  },
  {
   "cell_type": "code",
   "execution_count": 23,
   "id": "f141de25",
   "metadata": {},
   "outputs": [
    {
     "name": "stdout",
     "output_type": "stream",
     "text": [
      "[[('Arun',  18,  81.2) ('Charlizard',  15, 110.5) ('Vemon', 200,  10.2)]]\n",
      "(1, 3)\n",
      "<class 'numpy.void'>\n",
      "[('name', '<U10'), ('age', '<i4'), ('weight', '<f4')]\n",
      "Arun <U4\n"
     ]
    }
   ],
   "source": [
    "data_type = [('name','U10'),('age','i4'),('weight','f4')]\n",
    "\n",
    "Arr9 = np.array(\n",
    "    [[('Arun',18,81.2),\n",
    "    ('Charlizard',15,110.5),\n",
    "    ('Vemon',200,10.2)]],\n",
    "    dtype=data_type\n",
    ")\n",
    "\n",
    "print(Arr9)\n",
    "print(Arr9.shape)\n",
    "\n",
    "'''To get dtype of array'''\n",
    "# Wrong way, this will give void since its structured\n",
    "print(type(Arr9[0][0]))   # 1st column of 1st row \n",
    "# Correct way\n",
    "print(Arr9[0][0].dtype)\n",
    "print(Arr9[0][0][0], Arr9[0][0][0].dtype)"
   ]
  },
  {
   "cell_type": "code",
   "execution_count": 25,
   "id": "a5db738a",
   "metadata": {},
   "outputs": [
    {
     "name": "stdout",
     "output_type": "stream",
     "text": [
      "[[('Charlizard',  15, 110.5) ('Arun',  18,  81.2) ('Vemon', 200,  10.2)]]\n"
     ]
    }
   ],
   "source": [
    "# Sorting \n",
    "Sorted_arr9 = np.sort(Arr9,order='age')\n",
    "print(Sorted_arr9)"
   ]
  },
  {
   "cell_type": "markdown",
   "id": "c6f44b8e",
   "metadata": {},
   "source": [
    "\n",
    "2. Create a structured array with fields 'x' and 'y' (both integers). Add some data and compute the Euclidean distance between each pair of points.\n"
   ]
  },
  {
   "cell_type": "code",
   "execution_count": 31,
   "id": "e8e5970f",
   "metadata": {},
   "outputs": [
    {
     "name": "stdout",
     "output_type": "stream",
     "text": [
      "[( 1,  2) ( 1,  5) ( 2, 10) (10,  5)] data type: [('x', '<i4'), ('y', '<i4')]\n"
     ]
    },
    {
     "ename": "TypeError",
     "evalue": "'int' object is not iterable",
     "output_type": "error",
     "traceback": [
      "\u001b[1;31m---------------------------------------------------------------------------\u001b[0m",
      "\u001b[1;31mTypeError\u001b[0m                                 Traceback (most recent call last)",
      "Cell \u001b[1;32mIn[31], line 11\u001b[0m\n\u001b[0;32m      9\u001b[0m \u001b[38;5;28;01mimport\u001b[39;00m\u001b[38;5;250m \u001b[39m\u001b[38;5;21;01mmath\u001b[39;00m\n\u001b[0;32m     10\u001b[0m \u001b[38;5;28;01mfor\u001b[39;00m i \u001b[38;5;129;01min\u001b[39;00m arr9:\n\u001b[1;32m---> 11\u001b[0m     \u001b[38;5;28mprint\u001b[39m(\u001b[43mmath\u001b[49m\u001b[38;5;241;43m.\u001b[39;49m\u001b[43mdist\u001b[49m\u001b[43m(\u001b[49m\u001b[38;5;28;43mint\u001b[39;49m\u001b[43m(\u001b[49m\u001b[43mi\u001b[49m\u001b[43m[\u001b[49m\u001b[38;5;241;43m0\u001b[39;49m\u001b[43m]\u001b[49m\u001b[43m)\u001b[49m\u001b[43m,\u001b[49m\u001b[38;5;28;43mint\u001b[39;49m\u001b[43m(\u001b[49m\u001b[43mi\u001b[49m\u001b[43m[\u001b[49m\u001b[38;5;241;43m1\u001b[39;49m\u001b[43m]\u001b[49m\u001b[43m)\u001b[49m\u001b[43m)\u001b[49m)\n",
      "\u001b[1;31mTypeError\u001b[0m: 'int' object is not iterable"
     ]
    }
   ],
   "source": [
    "data_type = [('x','i4'),('y','i4')]\n",
    "\n",
    "arr9 = np.array(\n",
    "    [(1,2),(1,5),(2,10),(10,5)],\n",
    "    dtype=data_type\n",
    ")\n",
    "print(arr9,'data type:',arr9.dtype)\n",
    "\n",
    "import math\n",
    "for i in arr9:\n",
    "    print(math.dist())"
   ]
  },
  {
   "cell_type": "markdown",
   "id": "b7a43f21",
   "metadata": {},
   "source": [
    "\n",
    "### Assignment 10: Masked Arrays\n",
    "\n",
    "1. Create a masked array of shape (4, 4) with random integers and mask the elements greater than 10. Compute the sum of the unmasked elements.\n",
    "2. Create a masked array of shape (3, 3) with random integers and mask the diagonal elements. Replace the masked elements with the mean of the unmasked elements."
   ]
  },
  {
   "cell_type": "code",
   "execution_count": null,
   "metadata": {},
   "outputs": [],
   "source": []
  }
 ],
 "metadata": {
  "kernelspec": {
   "display_name": "env",
   "language": "python",
   "name": "python3"
  },
  "language_info": {
   "codemirror_mode": {
    "name": "ipython",
    "version": 3
   },
   "file_extension": ".py",
   "mimetype": "text/x-python",
   "name": "python",
   "nbconvert_exporter": "python",
   "pygments_lexer": "ipython3",
   "version": "3.13.1"
  }
 },
 "nbformat": 4,
 "nbformat_minor": 5
}
