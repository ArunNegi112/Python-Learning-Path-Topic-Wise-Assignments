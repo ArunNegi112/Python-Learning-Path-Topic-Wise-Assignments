{
 "cells": [
  {
   "cell_type": "markdown",
   "metadata": {},
   "source": [
    "# Module: NumPy Assignments\n",
    "## Lesson: NumPy\n"
   ]
  },
  {
   "cell_type": "code",
   "execution_count": 2,
   "id": "289d9a1f",
   "metadata": {},
   "outputs": [],
   "source": [
    "import numpy as np"
   ]
  },
  {
   "cell_type": "markdown",
   "id": "59eb3625",
   "metadata": {},
   "source": [
    "### Assignment 1: Array Creation and Manipulation\n",
    "\n",
    "1. Create a NumPy array of shape (5, 5) filled with random integers between 1 and 20. Replace all the elements in the third column with 1.\n"
   ]
  },
  {
   "cell_type": "code",
   "execution_count": 3,
   "id": "ae76c44b",
   "metadata": {},
   "outputs": [
    {
     "name": "stdout",
     "output_type": "stream",
     "text": [
      "[[ 3 16  4 10 10]\n",
      " [17  3 19  6  3]\n",
      " [ 3  1  5  4  5]\n",
      " [10 10 12  6 11]\n",
      " [19  4  4  7  7]]\n"
     ]
    }
   ],
   "source": [
    "arr1 = np.random.randint(1,20,size = (5,5))\n",
    "print(arr1)"
   ]
  },
  {
   "cell_type": "code",
   "execution_count": 4,
   "id": "3e22ca97",
   "metadata": {},
   "outputs": [
    {
     "name": "stdout",
     "output_type": "stream",
     "text": [
      "[[ 3 16  1 10 10]\n",
      " [17  3  1  6  3]\n",
      " [ 3  1  1  4  5]\n",
      " [10 10  1  6 11]\n",
      " [19  4  1  7  7]]\n"
     ]
    }
   ],
   "source": [
    "arr1[:,2] = 1\n",
    "print(arr1)"
   ]
  },
  {
   "cell_type": "markdown",
   "id": "4e7af7fe",
   "metadata": {},
   "source": [
    "\n",
    "2. Create a NumPy array of shape (4, 4) with values from 1 to 16. Replace the diagonal elements with 0.\n"
   ]
  },
  {
   "cell_type": "code",
   "execution_count": 5,
   "id": "dd006ede",
   "metadata": {},
   "outputs": [
    {
     "name": "stdout",
     "output_type": "stream",
     "text": [
      "[[ 1  2  3  4]\n",
      " [ 5  6  7  8]\n",
      " [ 9 10 11 12]\n",
      " [13 14 15 16]]\n"
     ]
    }
   ],
   "source": [
    "arr1 = np.arange(1,17).reshape(4,4)\n",
    "print(arr1)"
   ]
  },
  {
   "cell_type": "code",
   "execution_count": 6,
   "id": "565550d4",
   "metadata": {},
   "outputs": [
    {
     "data": {
      "text/plain": [
       "array([[ 0,  2,  3,  4],\n",
       "       [ 5,  0,  7,  8],\n",
       "       [ 9, 10,  0, 12],\n",
       "       [13, 14, 15,  0]])"
      ]
     },
     "execution_count": 6,
     "metadata": {},
     "output_type": "execute_result"
    }
   ],
   "source": [
    "np.fill_diagonal(arr1,0)\n",
    "arr1"
   ]
  },
  {
   "cell_type": "markdown",
   "id": "2d4eddc7",
   "metadata": {},
   "source": [
    "\n",
    "### Assignment 2: Array Indexing and Slicing\n",
    "\n",
    "1. Create a NumPy array of shape (6, 6) with values from 1 to 36. Extract the sub-array consisting of the 3rd to 5th rows and 2nd to 4th columns.\n"
   ]
  },
  {
   "cell_type": "code",
   "execution_count": 7,
   "id": "f6467d6b",
   "metadata": {},
   "outputs": [
    {
     "name": "stdout",
     "output_type": "stream",
     "text": [
      "Original array : \n",
      " [[ 1  2  3  4  5  6]\n",
      " [ 7  8  9 10 11 12]\n",
      " [13 14 15 16 17 18]\n",
      " [19 20 21 22 23 24]\n",
      " [25 26 27 28 29 30]\n",
      " [31 32 33 34 35 36]]\n",
      "Sub array \n",
      " [[14 15 16]\n",
      " [20 21 22]\n",
      " [26 27 28]]\n"
     ]
    }
   ],
   "source": [
    "arr2 = np.arange(1,37).reshape(6,6)\n",
    "print(f\"Original array : \\n {arr2}\")\n",
    "\n",
    "sub_arr2 = arr2[2:5,1:4]\n",
    "print(f\"Sub array \\n {sub_arr2}\")"
   ]
  },
  {
   "cell_type": "markdown",
   "id": "4b9ee96e",
   "metadata": {},
   "source": [
    "\n",
    "2. Create a NumPy array of shape (5, 5) with random integers. Extract the elements on the border.\n"
   ]
  },
  {
   "cell_type": "code",
   "execution_count": 20,
   "id": "8bb65b8c",
   "metadata": {},
   "outputs": [
    {
     "name": "stdout",
     "output_type": "stream",
     "text": [
      "Original array :\n",
      " [[ 5 15 17 13 15]\n",
      " [ 9  6 18 18  7]\n",
      " [17  1  2  9 15]\n",
      " [ 5 12  1 10  3]\n",
      " [ 6  7  8 15  8]]\n",
      "Border elements : \n",
      " [ 5 15 17 13 15  6  7  8 15  8  9 17  5  7 15  3]\n"
     ]
    }
   ],
   "source": [
    "arr2 = np.random.randint(1,20,size = (5,5))\n",
    "print(f\"Original array :\\n {arr2}\")\n",
    "\n",
    "border = np.concatenate((arr2[0,:] , arr2[-1,:] , arr2[1:-1,0] , arr2[1:-1,-1]))\n",
    "print(f\"Border elements : \\n {border}\")"
   ]
  },
  {
   "cell_type": "markdown",
   "id": "6a2bc96a",
   "metadata": {},
   "source": [
    "\n",
    "### Assignment 3: Array Operations\n",
    "\n",
    "1. Create two NumPy arrays of shape (3, 4) filled with random integers. Perform element-wise addition, subtraction, multiplication, and division.\n"
   ]
  },
  {
   "cell_type": "code",
   "execution_count": 10,
   "id": "9eb0feb4",
   "metadata": {},
   "outputs": [
    {
     "name": "stdout",
     "output_type": "stream",
     "text": [
      "Original arrays \n",
      " [[5 5 6 9]\n",
      " [9 3 3 8]\n",
      " [2 8 9 7]] \n",
      " [[8 9 4 7]\n",
      " [7 2 8 8]\n",
      " [1 4 6 4]]\n",
      "Element wise sum \n",
      " [[13 14 10 16]\n",
      " [16  5 11 16]\n",
      " [ 3 12 15 11]]\n",
      "Element wise sub \n",
      " [[-3 -4  2  2]\n",
      " [ 2  1 -5  0]\n",
      " [ 1  4  3  3]]\n",
      "Element wise mult \n",
      " [[40 45 24 63]\n",
      " [63  6 24 64]\n",
      " [ 2 32 54 28]]\n",
      "Element wise div \n",
      " [[0.625      0.55555556 1.5        1.28571429]\n",
      " [1.28571429 1.5        0.375      1.        ]\n",
      " [2.         2.         1.5        1.75      ]]\n",
      "Element wise division \n",
      "  [[0.625      0.55555556 1.5        1.28571429]\n",
      " [1.28571429 1.5        0.375      1.        ]\n",
      " [2.         2.         1.5        1.75      ]]\n"
     ]
    }
   ],
   "source": [
    "arr3a = np.random.randint(1,10,size = (3,4))\n",
    "arr3b = np.random.randint(1,10,size = (3,4))\n",
    "\n",
    "print(\"Original arrays \\n\",arr3a,\"\\n\",arr3b)\n",
    "\n",
    "print(\"Element wise sum \\n\",arr3a+arr3b)\n",
    "print(\"Element wise sub \\n\",arr3a-arr3b)\n",
    "print(\"Element wise mult \\n\",arr3a*arr3b)\n",
    "print(\"Element wise div \\n\",arr3a/arr3b)      # This may give Runtime error sometimes\n",
    "\n",
    "print(\"Element wise division \\n \", np.divide(arr3a,arr3b,where = True))"
   ]
  },
  {
   "cell_type": "markdown",
   "id": "7dbaf66a",
   "metadata": {},
   "source": [
    "\n",
    "2. Create a NumPy array of shape (4, 4) with values from 1 to 16. Compute the row-wise and column-wise sum.\n"
   ]
  },
  {
   "cell_type": "code",
   "execution_count": 11,
   "id": "caf44477",
   "metadata": {},
   "outputs": [
    {
     "name": "stdout",
     "output_type": "stream",
     "text": [
      "Original array :\n",
      " [[ 1  2  3  4]\n",
      " [ 5  6  7  8]\n",
      " [ 9 10 11 12]\n",
      " [13 14 15 16]]\n",
      "row wise sum :\n",
      " [10 26 42 58]\n",
      "column wise sum :\n",
      " [28 32 36 40]\n"
     ]
    }
   ],
   "source": [
    "arr3 = np.arange(1,17).reshape(4,4)\n",
    "\n",
    "print(f\"Original array :\\n {arr3}\")\n",
    "row_wise = np.sum(arr3,axis=1)\n",
    "column_wise = np.sum(arr3,axis=0)\n",
    "\n",
    "print(f\"row wise sum :\\n {row_wise}\")\n",
    "print(f\"column wise sum :\\n {column_wise}\")"
   ]
  },
  {
   "cell_type": "markdown",
   "id": "5c98c357",
   "metadata": {},
   "source": [
    "\n",
    "### Assignment 4: Statistical Operations\n",
    "\n",
    "1. Create a NumPy array of shape (5, 5) filled with random integers. Compute the mean, median, standard deviation, and variance of the array.\n"
   ]
  },
  {
   "cell_type": "code",
   "execution_count": 12,
   "id": "977aee22",
   "metadata": {},
   "outputs": [
    {
     "name": "stdout",
     "output_type": "stream",
     "text": [
      "Original array :\n",
      " [[ 5 12 19 18  9]\n",
      " [10  1 14 11 11]\n",
      " [ 1 18  5 17  5]\n",
      " [15  2 16 10  1]\n",
      " [ 7 12  3  5 15]]\n",
      "Mean : 9.68\n",
      "Median : 10.0\n",
      "Standard Deviation : 5.773872184245162\n",
      "Variance : 33.3376\n"
     ]
    }
   ],
   "source": [
    "arr4 = np.random.randint(1,20,size= (5,5))\n",
    "print(f\"Original array :\\n {arr4}\")\n",
    "\n",
    "print(f\"Mean : {np.mean(arr4)}\")\n",
    "print(f\"Median : {np.median(arr4)}\")\n",
    "print(f\"Standard Deviation : {np.std(arr4)}\")\n",
    "print(f\"Variance : {np.var(arr4)}\")\n"
   ]
  },
  {
   "cell_type": "markdown",
   "id": "9510db77",
   "metadata": {},
   "source": [
    "\n",
    "2. Create a NumPy array of shape (3, 3) with values from 1 to 9. Normalize the array (i.e., scale the values to have a mean of 0 and a standard deviation of 1).\n"
   ]
  },
  {
   "cell_type": "code",
   "execution_count": 19,
   "id": "3315bdc8",
   "metadata": {},
   "outputs": [
    {
     "name": "stdout",
     "output_type": "stream",
     "text": [
      "[[-0.8105479   0.40181007  1.61416805  1.44097405 -0.11777192]\n",
      " [ 0.05542208 -1.50332389  0.74819807  0.22861608  0.22861608]\n",
      " [-1.50332389  1.44097405 -0.8105479   1.26778006 -0.8105479 ]\n",
      " [ 0.92139206 -1.33012989  1.09458606  0.05542208 -1.50332389]\n",
      " [-0.46415991  0.40181007 -1.1569359  -0.8105479   0.92139206]]\n",
      "Mean : 0\n",
      "Median : 0.055422078942648945\n",
      "Standard Deviation : 1.0\n",
      "Variance : 1.0\n"
     ]
    }
   ],
   "source": [
    "normalized_arr = (arr4 - np.mean(arr4) )/ np.std(arr4)\n",
    "print(normalized_arr)\n",
    "\n",
    "# Formula : normalized arr = (arr - mean)/standard_deviation\n",
    "\n",
    "print(f\"Mean : {round(normalized_arr.mean())}\")\n",
    "print(f\"Median : {np.median(normalized_arr)}\")\n",
    "print(f\"Standard Deviation : {normalized_arr.std()}\")\n",
    "print(f\"Variance : {normalized_arr.var()}\")"
   ]
  },
  {
   "cell_type": "markdown",
   "id": "06596ea8",
   "metadata": {},
   "source": [
    "\n",
    "### Assignment 5: Broadcasting\n",
    "\n",
    "1. Create a NumPy array of shape (3, 3) filled with random integers. Add a 1D array of shape (3,) to each row of the 2D array using broadcasting.\n"
   ]
  },
  {
   "cell_type": "code",
   "execution_count": 25,
   "id": "e63a9293",
   "metadata": {},
   "outputs": [
    {
     "name": "stdout",
     "output_type": "stream",
     "text": [
      "Original array :\n",
      "[[1 2 4]\n",
      " [3 3 4]\n",
      " [1 4 3]]\n",
      "\n",
      "1D array :\n",
      "[1 2 3]\n",
      "\n",
      "Result :\n",
      "[[2 4 7]\n",
      " [4 5 7]\n",
      " [2 6 6]]\n"
     ]
    }
   ],
   "source": [
    "arr5 = np.random.randint(1,5,size=(3,3))\n",
    "print(f\"Original array :\\n{arr5}\\n\")\n",
    "\n",
    "_1d = np.arange(1,4)\n",
    "print(f\"1D array :\\n{_1d}\\n\")\n",
    "\n",
    "\n",
    "print(f\"Result :\\n{arr5+_1d}\")    # Row wise broadcasting of _1d, _1d (3,)-->(3,3)"
   ]
  },
  {
   "cell_type": "markdown",
   "id": "8d62e864",
   "metadata": {},
   "source": [
    "\n",
    "2. Create a NumPy array of shape (4, 4) filled with random integers. Subtract a 1D array of shape (4,) from each column of the 2D array using broadcasting.\n"
   ]
  },
  {
   "cell_type": "code",
   "execution_count": 27,
   "id": "fff8c1d0",
   "metadata": {},
   "outputs": [
    {
     "name": "stdout",
     "output_type": "stream",
     "text": [
      "[[ 1  2  3  4]\n",
      " [ 5  6  7  8]\n",
      " [ 9 10 11 12]\n",
      " [13 14 15 16]] \n",
      "\n",
      "[1 2 3 4] \n",
      "\n",
      "Column wise subtraction : \n",
      "[[ 0  1  2  3]\n",
      " [ 3  4  5  6]\n",
      " [ 6  7  8  9]\n",
      " [ 9 10 11 12]]\n"
     ]
    }
   ],
   "source": [
    "arr5 = np.arange(1,17).reshape(4,4)\n",
    "_1d = np.array([1,2,3,4])\n",
    "\n",
    "print(arr5,\"\\n\")\n",
    "print(_1d,\"\\n\")\n",
    "\n",
    "print(f\"Column wise subtraction : \\n{arr5-_1d.reshape(4,1)}\")"
   ]
  },
  {
   "cell_type": "markdown",
   "id": "7aa6f063",
   "metadata": {},
   "source": [
    "\n",
    "### Assignment 6: Linear Algebra\n",
    "\n",
    "1. Create a NumPy array of shape (3, 3) representing a matrix. Compute its determinant, inverse, and eigenvalues.\n"
   ]
  },
  {
   "cell_type": "code",
   "execution_count": 29,
   "id": "f29f7c8a",
   "metadata": {},
   "outputs": [
    {
     "name": "stdout",
     "output_type": "stream",
     "text": [
      "Origial matrix :\n",
      "[[1 2 3]\n",
      " [4 5 6]\n",
      " [7 8 9]]\n",
      "det :\n",
      "0.0\n",
      "eigen values :\n",
      "[ 1.61168440e+01 -1.11684397e+00 -1.30367773e-15]\n",
      "Singular matrix\n"
     ]
    }
   ],
   "source": [
    "arr6 = np.arange(1,10).reshape(3,3)\n",
    "print(f\"Origial matrix :\\n{arr6}\")\n",
    "\n",
    "\n",
    "det = np.linalg.det(arr6)\n",
    "eigenval = np.linalg.eigvals(arr6)\n",
    "print(f\"det :\\n{det}\")\n",
    "print(f\"eigen values :\\n{eigenval}\")\n",
    "try :\n",
    "    inv = np.linalg.inv(arr6)\n",
    "    print(f\"inverse :\\n{inv}\")\n",
    "except Exception as error :\n",
    "    print(error)\n"
   ]
  },
  {
   "cell_type": "markdown",
   "id": "71942a29",
   "metadata": {},
   "source": [
    "\n",
    "2. Create two NumPy arrays of shape (2, 3) and (3, 2). Perform matrix multiplication on these arrays.\n"
   ]
  },
  {
   "cell_type": "code",
   "execution_count": 14,
   "id": "e31d5899",
   "metadata": {},
   "outputs": [
    {
     "name": "stdout",
     "output_type": "stream",
     "text": [
      "Array1 :\n",
      "[[1 2 3]\n",
      " [4 5 6]]\n",
      "Array2 :\n",
      "[[1 2]\n",
      " [3 4]\n",
      " [5 6]]\n"
     ]
    },
    {
     "data": {
      "text/plain": [
       "array([[22, 28],\n",
       "       [49, 64]])"
      ]
     },
     "execution_count": 14,
     "metadata": {},
     "output_type": "execute_result"
    }
   ],
   "source": [
    "arr6_A = np.arange(1,7).reshape(2,3)\n",
    "arr6_B = np.arange(1,7).reshape(3,2)\n",
    "print(f\"Array1 :\\n{arr6_A}\")\n",
    "print(f\"Array2 :\\n{arr6_B}\")\n",
    "\n",
    "np.dot(arr6_A,arr6_B)"
   ]
  },
  {
   "cell_type": "markdown",
   "id": "8198be14",
   "metadata": {},
   "source": [
    "\n",
    "### Assignment 7: Advanced Array Manipulation\n",
    "\n",
    "1. Create a NumPy array of shape (3, 3) with values from 1 to 9. Reshape the array to shape (1, 9) and then to shape (9, 1).\n"
   ]
  },
  {
   "cell_type": "code",
   "execution_count": 15,
   "id": "bf5b22c4",
   "metadata": {},
   "outputs": [
    {
     "name": "stdout",
     "output_type": "stream",
     "text": [
      "Original array: \n",
      "[[1 2 3]\n",
      " [4 5 6]\n",
      " [7 8 9]]\n",
      "Reshaped:\n",
      "[[1 2 3 4 5 6 7 8 9]]\n",
      "Final array:\n",
      "[[1]\n",
      " [2]\n",
      " [3]\n",
      " [4]\n",
      " [5]\n",
      " [6]\n",
      " [7]\n",
      " [8]\n",
      " [9]]\n"
     ]
    }
   ],
   "source": [
    "arr7 = np.arange(1,10).reshape(3,3)\n",
    "print(f\"Original array: \\n{arr7}\")\n",
    "\n",
    "reshaped_Arr = arr7.reshape(1,9)\n",
    "print(f\"Reshaped:\\n{reshaped_Arr}\")\n",
    "\n",
    "again_reshaped = reshaped_Arr.reshape(9,1)\n",
    "print(f\"Final array:\\n{again_reshaped}\")"
   ]
  },
  {
   "cell_type": "markdown",
   "id": "13e838bb",
   "metadata": {},
   "source": [
    "\n",
    "2. Create a NumPy array of shape (5, 5) filled with random integers. Flatten the array and then reshape it back to (5, 5).\n"
   ]
  },
  {
   "cell_type": "code",
   "execution_count": 19,
   "id": "59604eee",
   "metadata": {},
   "outputs": [
    {
     "name": "stdout",
     "output_type": "stream",
     "text": [
      "Original array:\n",
      "[[3 1 4 6 7]\n",
      " [7 1 6 2 1]\n",
      " [8 3 3 1 9]\n",
      " [5 4 2 3 5]\n",
      " [7 4 3 5 6]]\n",
      "Flatten array:\n",
      "[3 1 4 6 7 7 1 6 2 1 8 3 3 1 9 5 4 2 3 5 7 4 3 5 6]\n",
      "Reshaped: \n",
      "[[3 1 4 6 7]\n",
      " [7 1 6 2 1]\n",
      " [8 3 3 1 9]\n",
      " [5 4 2 3 5]\n",
      " [7 4 3 5 6]]\n"
     ]
    }
   ],
   "source": [
    "arr7 = np.random.randint(1,10,size=(5,5))\n",
    "print(f\"Original array:\\n{arr7}\")\n",
    "\n",
    "flatten_Arr = arr7.flatten()\n",
    "print(f\"Flatten array:\\n{flatten_Arr}\")\n",
    "\n",
    "reshaped = flatten_Arr.reshape(5,5)\n",
    "print(f\"Reshaped: \\n{reshaped}\")"
   ]
  },
  {
   "cell_type": "markdown",
   "id": "ee656bf4",
   "metadata": {},
   "source": [
    "\n",
    "### Assignment 8: Fancy Indexing and Boolean Indexing\n",
    "\n",
    "1. Create a NumPy array of shape (5, 5) filled with random integers. Use fancy indexing to extract the elements at the corners of the array.\n"
   ]
  },
  {
   "cell_type": "code",
   "execution_count": 21,
   "id": "324209f6",
   "metadata": {},
   "outputs": [
    {
     "name": "stdout",
     "output_type": "stream",
     "text": [
      "Original array :\n",
      " [[ 5 15 17 13 15]\n",
      " [ 9  6 18 18  7]\n",
      " [17  1  2  9 15]\n",
      " [ 5 12  1 10  3]\n",
      " [ 6  7  8 15  8]]\n",
      "Elements on corner : \n",
      " [17 12  8 13]\n"
     ]
    }
   ],
   "source": [
    "arr8 = np.random.randint(1,20,size = (5,5))\n",
    "print(f\"Original array :\\n {arr2}\")\n",
    "\n",
    "extract = arr8[[0,0,-1,-1],[0,-1,0,-1]]\n",
    "print(f\"Elements on corner : \\n {extract}\")"
   ]
  },
  {
   "cell_type": "markdown",
   "id": "cf96f8e5",
   "metadata": {},
   "source": [
    "\n",
    "2. Create a NumPy array of shape (4, 4) filled with random integers. Use boolean indexing to set all elements greater than 10 to 10.\n"
   ]
  },
  {
   "cell_type": "code",
   "execution_count": 22,
   "id": "b4f7b6d3",
   "metadata": {},
   "outputs": [
    {
     "name": "stdout",
     "output_type": "stream",
     "text": [
      "original array:\n",
      "[[13 10 12  8]\n",
      " [ 1 12  7  9]\n",
      " [ 5  5  6 13]\n",
      " [14 14 11  2]]\n",
      "Modified array:\n",
      "[[10 10 10  8]\n",
      " [ 1 10  7  9]\n",
      " [ 5  5  6 10]\n",
      " [10 10 10  2]]\n"
     ]
    }
   ],
   "source": [
    "arr8 = np.random.randint(1,15,size=(4,4))\n",
    "print(f\"original array:\\n{arr8}\")\n",
    "\n",
    "arr8[arr8>10]=10\n",
    "print(f\"Modified array:\\n{arr8}\")"
   ]
  },
  {
   "cell_type": "markdown",
   "id": "06748dc1",
   "metadata": {},
   "source": [
    "\n",
    "### Assignment 9: Structured Arrays\n",
    "\n",
    "1. Create a structured array with fields 'name' (string), 'age' (integer), and 'weight' (float). Add some data and sort the array by age.\n",
    "2. Create a structured array with fields 'x' and 'y' (both integers). Add some data and compute the Euclidean distance between each pair of points.\n"
   ]
  },
  {
   "cell_type": "markdown",
   "id": "b7a43f21",
   "metadata": {},
   "source": [
    "\n",
    "### Assignment 10: Masked Arrays\n",
    "\n",
    "1. Create a masked array of shape (4, 4) with random integers and mask the elements greater than 10. Compute the sum of the unmasked elements.\n",
    "2. Create a masked array of shape (3, 3) with random integers and mask the diagonal elements. Replace the masked elements with the mean of the unmasked elements."
   ]
  },
  {
   "cell_type": "code",
   "execution_count": null,
   "metadata": {},
   "outputs": [],
   "source": []
  }
 ],
 "metadata": {
  "kernelspec": {
   "display_name": "base",
   "language": "python",
   "name": "python3"
  },
  "language_info": {
   "codemirror_mode": {
    "name": "ipython",
    "version": 3
   },
   "file_extension": ".py",
   "mimetype": "text/x-python",
   "name": "python",
   "nbconvert_exporter": "python",
   "pygments_lexer": "ipython3",
   "version": "3.12.7"
  }
 },
 "nbformat": 4,
 "nbformat_minor": 5
}
