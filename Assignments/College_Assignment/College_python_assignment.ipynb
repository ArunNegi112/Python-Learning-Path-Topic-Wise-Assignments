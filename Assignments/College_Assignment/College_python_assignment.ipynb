{
 "cells": [
  {
   "cell_type": "code",
   "execution_count": 3,
   "id": "67cab77d",
   "metadata": {},
   "outputs": [
    {
     "name": "stdout",
     "output_type": "stream",
     "text": [
      "13\n",
      "MUMBAI_IS_IN_INDIA\n",
      "18\n",
      "u\n",
      "I\n",
      "is_in\n"
     ]
    }
   ],
   "source": [
    "# Q1) Write a Program to perform string manipulation operations using set of pre-defined functions such as:\n",
    "\n",
    "# a) Find()\n",
    "# b) Upper()\n",
    "# c) Len()\n",
    "# d) Max() and Min()\n",
    "# e) Fetching a specific content from the String\n",
    "string = \"Mumbai_is_in_India\"\n",
    "\n",
    "print(string.find('India'))    # Return lowest index\n",
    "print(string.upper())\n",
    "print(len(string))\n",
    "print(max(string))             # compares letter based on asci values\n",
    "print(min(string))\n",
    "print(string[7:12])"
   ]
  },
  {
   "cell_type": "code",
   "execution_count": 4,
   "id": "33de4ec3",
   "metadata": {},
   "outputs": [
    {
     "name": "stdout",
     "output_type": "stream",
     "text": [
      "11\n",
      "3.163858403911275\n",
      "100.20009999999999\n",
      "39916800\n"
     ]
    }
   ],
   "source": [
    "# Q2) Write a Program to perform to test and check the mathematical functions such as:\n",
    "\n",
    "# a) Ceil()\n",
    "# b) Sqrt()\n",
    "# c) Pow()\n",
    "# d) Factorial()\n",
    "\n",
    "from math import ceil,sqrt,pow,factorial\n",
    "x = 10.01\n",
    "print(ceil(x))\n",
    "print(sqrt(x))\n",
    "print(pow(x,2))\n",
    "print(factorial(ceil(x)))"
   ]
  },
  {
   "cell_type": "code",
   "execution_count": 5,
   "id": "ccf96436",
   "metadata": {},
   "outputs": [
    {
     "data": {
      "text/plain": [
       "'4 is even'"
      ]
     },
     "execution_count": 5,
     "metadata": {},
     "output_type": "execute_result"
    }
   ],
   "source": [
    "# Q3) Write a Program that receive a number as input from user and returns if it odd or even\n",
    "\n",
    "def odd_even():\n",
    "    num = int(input(\"Enter the number: \"))\n",
    "    if num%2==0:\n",
    "        return f\"{num} is even\"\n",
    "    else:\n",
    "        return f\"{num} is odd\"\n",
    "    \n",
    "odd_even()"
   ]
  },
  {
   "cell_type": "code",
   "execution_count": 6,
   "id": "1736c557",
   "metadata": {},
   "outputs": [
    {
     "name": "stdout",
     "output_type": "stream",
     "text": [
      "The area of the triangle is: 7.5\n"
     ]
    }
   ],
   "source": [
    "# Q4) Write a Program that receive input from the user to calculate the Area of Triangle\n",
    "def calculate_triangle_area():\n",
    "    base = float(input(\"Enter the base of the triangle: \"))\n",
    "    height = float(input(\"Enter the height of the triangle: \"))\n",
    "\n",
    "    area = 0.5 * base * height\n",
    "\n",
    "    print(\"The area of the triangle is:\", area)\n",
    "\n",
    "calculate_triangle_area()"
   ]
  },
  {
   "cell_type": "code",
   "execution_count": 7,
   "id": "de2c2c11",
   "metadata": {},
   "outputs": [
    {
     "data": {
      "text/plain": [
       "'area of square is 9.0'"
      ]
     },
     "execution_count": 7,
     "metadata": {},
     "output_type": "execute_result"
    }
   ],
   "source": [
    "# Q5) Write a Program that receive input from the user to calculate the Area of Square\n",
    "\n",
    "def calculate_area_of_square():\n",
    "    side = float(input(\"Enter the size length: \"))\n",
    "\n",
    "    area = side**2\n",
    "    return f\"area of square is {area}\"\n",
    "\n",
    "calculate_area_of_square()"
   ]
  },
  {
   "cell_type": "code",
   "execution_count": 8,
   "id": "2a8be5bd",
   "metadata": {},
   "outputs": [
    {
     "data": {
      "text/plain": [
       "'area of rectangle is 12.0'"
      ]
     },
     "execution_count": 8,
     "metadata": {},
     "output_type": "execute_result"
    }
   ],
   "source": [
    "# Q6) Write a Program that receive input from the user to calculate the Area of Rectangle\n",
    "\n",
    "def calculate_area_of_rectangle():\n",
    "    height = float(input(\"Enter the height: \"))\n",
    "    width = float(input(\"Enter the width: \"))\n",
    "\n",
    "    area = height*width\n",
    "    return f\"area of rectangle is {area}\"\n",
    "\n",
    "calculate_area_of_rectangle()"
   ]
  },
  {
   "cell_type": "code",
   "execution_count": 9,
   "id": "c11fbe01",
   "metadata": {},
   "outputs": [
    {
     "data": {
      "text/plain": [
       "'aidnI_ni_si_iabmuM'"
      ]
     },
     "execution_count": 9,
     "metadata": {},
     "output_type": "execute_result"
    }
   ],
   "source": [
    "string[::-1]"
   ]
  },
  {
   "cell_type": "code",
   "execution_count": 10,
   "id": "e259ef45",
   "metadata": {},
   "outputs": [
    {
     "data": {
      "text/plain": [
       "\"'youuoy' is a palindrome\""
      ]
     },
     "execution_count": 10,
     "metadata": {},
     "output_type": "execute_result"
    }
   ],
   "source": [
    "# Q7) Write a Program to check if the input string is Palindrome or not\n",
    "\n",
    "def check_palindrome(string):\n",
    "    if string==string[::-1]:\n",
    "        return f\"'{string}' is a palindrome\"\n",
    "    else:\n",
    "        return f\"'{string}' is not a palindrome\"\n",
    "    \n",
    "check_palindrome(\"youuoy\")"
   ]
  },
  {
   "cell_type": "code",
   "execution_count": 11,
   "id": "bb2de170",
   "metadata": {},
   "outputs": [
    {
     "name": "stdout",
     "output_type": "stream",
     "text": [
      "hindi:'F'\n",
      "english:'E'\n",
      "physics:'D'\n"
     ]
    }
   ],
   "source": [
    "# Q8) Write a Program that receives marks of a students for a subject as input and assign the grades A||B||C||D||E||F\n",
    "\n",
    "def grades(**k): \n",
    "    for s, m in k.items(): \n",
    "        print(f\"{s}:'{'FEDCBA'[(m>49)+(m>59)+(m>69)+(m>79)+(m>89)]}'\")\n",
    "\n",
    "grades(hindi=10, english=50, physics=69)"
   ]
  },
  {
   "cell_type": "code",
   "execution_count": 12,
   "id": "77659161",
   "metadata": {},
   "outputs": [
    {
     "data": {
      "text/plain": [
       "10"
      ]
     },
     "execution_count": 12,
     "metadata": {},
     "output_type": "execute_result"
    }
   ],
   "source": [
    "# Q9) Write a Program to compute the GCD of the two numbers.\n",
    "from math import gcd\n",
    "gcd(10,20,40,50)"
   ]
  },
  {
   "cell_type": "code",
   "execution_count": 13,
   "id": "a738c15a",
   "metadata": {},
   "outputs": [
    {
     "data": {
      "text/plain": [
       "'Given number is armstrong number'"
      ]
     },
     "execution_count": 13,
     "metadata": {},
     "output_type": "execute_result"
    }
   ],
   "source": [
    "# Q10) Write a Program to check if the given number is Armstrong number or not. Example of Armstrong number are :- 153, 370, 371 etc.\n",
    "def armstrong(num):\n",
    "    lis = [int(i) for i in str(num)]\n",
    "    arms_sum = 0\n",
    "    for i in lis:\n",
    "        arms_sum += i**len(str(num))\n",
    "\n",
    "    if arms_sum==num:\n",
    "        return \"Given number is armstrong number\"\n",
    "    else:\n",
    "        return \"Given number is not armstrong number\"\n",
    "    \n",
    "armstrong(371)"
   ]
  },
  {
   "cell_type": "code",
   "execution_count": 14,
   "id": "40a0195c",
   "metadata": {},
   "outputs": [
    {
     "name": "stdout",
     "output_type": "stream",
     "text": [
      "Armstrong\n"
     ]
    }
   ],
   "source": [
    "def armstrong(num):\n",
    "    digits = [int(i) for i in str(num)]\n",
    "    digi_sum = sum(i**len(digits) for i in digits)\n",
    "    print(\"Armstrong\" if digi_sum==num else \"Not Armstrong\")\n",
    "\n",
    "armstrong(371)"
   ]
  },
  {
   "cell_type": "code",
   "execution_count": 15,
   "id": "6aefcee8",
   "metadata": {},
   "outputs": [
    {
     "name": "stdout",
     "output_type": "stream",
     "text": [
      "Leap year\n"
     ]
    }
   ],
   "source": [
    "# Q11) Write a Program to check if the input year is a leap year or not\n",
    "#  Should be divisible by 4 & not 100 or 400\n",
    "\n",
    "def leap_year(year):\n",
    "    print(\"Leap year\" if (year%4==0 and year%100!=0) or (year%400==0) else \"Not Leap year\")\n",
    "\n",
    "leap_year(1600)"
   ]
  },
  {
   "cell_type": "code",
   "execution_count": 16,
   "id": "bc8ac5f9",
   "metadata": {},
   "outputs": [
    {
     "data": {
      "text/plain": [
       "24"
      ]
     },
     "execution_count": 16,
     "metadata": {},
     "output_type": "execute_result"
    }
   ],
   "source": [
    "# Q12) Write a Program to compute factorial of a given number\n",
    "def factorial(num):\n",
    "    return 1 if (num==0 or num==1) else num*factorial(num-1)\n",
    "\n",
    "factorial(4)"
   ]
  },
  {
   "cell_type": "code",
   "execution_count": 17,
   "id": "93509b25",
   "metadata": {},
   "outputs": [
    {
     "data": {
      "text/plain": [
       "354224848179261915075"
      ]
     },
     "execution_count": 17,
     "metadata": {},
     "output_type": "execute_result"
    }
   ],
   "source": [
    "# Q13) Write a Program to generate Fibonacci series till 100.\n",
    "from functools import lru_cache\n",
    "@lru_cache(maxsize=None)\n",
    "def fibonacci(n):\n",
    "    '''Start from 0th term to nth term, i.e 0th:0, 1st:1, 2nd:1, 3rd:2'''\n",
    "    return n if (n==0 or n==1) else fibonacci(n-1)+fibonacci(n-2)\n",
    "fibonacci(100)"
   ]
  },
  {
   "cell_type": "code",
   "execution_count": 18,
   "id": "6ff8f0dc",
   "metadata": {},
   "outputs": [
    {
     "name": "stdout",
     "output_type": "stream",
     "text": [
      "10x1=10\n",
      "10x2=20\n",
      "10x3=30\n",
      "10x4=40\n",
      "10x5=50\n",
      "10x6=60\n",
      "10x7=70\n",
      "10x8=80\n",
      "10x9=90\n",
      "10x10=100\n"
     ]
    }
   ],
   "source": [
    "# Q14) Write a Program to print a multiplication table of a given number.\n",
    "def table(n):\n",
    "    for i in range(1,11):\n",
    "        print(f\"{n}x{i}={n*i}\")\n",
    "\n",
    "table(10)"
   ]
  },
  {
   "cell_type": "code",
   "execution_count": 19,
   "id": "68e6869a",
   "metadata": {},
   "outputs": [
    {
     "name": "stdout",
     "output_type": "stream",
     "text": [
      "[1, 2, 3, 4, 5, 5, 4, 3, 2, 1]\n",
      "True\n",
      "5 5\n",
      "[1, 2, 3, 4, 5]\n"
     ]
    }
   ],
   "source": [
    "# Q15) Write a Program to create two lists and perform the following operations:\n",
    "# Add the elements of the two lists.\n",
    "# Compare the contents of the two lists.\n",
    "# Find the number of elements in the list.\n",
    "# Sort the elements of the list.\n",
    "\n",
    "list1 = [1,2,3,4,5]\n",
    "list2 = [5,4,3,2,1]\n",
    "\n",
    "print(list1+list2)\n",
    "print(sorted(list1)==sorted(list2))\n",
    "print(len(list1),len(list2))\n",
    "print(sorted(list2))"
   ]
  },
  {
   "cell_type": "code",
   "execution_count": 20,
   "id": "724e04fa",
   "metadata": {},
   "outputs": [
    {
     "data": {
      "text/plain": [
       "{0: 'Delhi', 1: 'Mumbai', 2: 'Pune', 3: 'Hyd', 4: 'Chennai'}"
      ]
     },
     "execution_count": 20,
     "metadata": {},
     "output_type": "execute_result"
    }
   ],
   "source": [
    "# Q16) Write a Program to create and display the content of the tuple. Initialize the tuple with\n",
    "# the name of the cities. Display content of the tuple along with name/index positions of the\n",
    "# cities.\n",
    "\n",
    "t = ('Delhi','Mumbai','Pune','Hyd','Chennai')\n",
    "content = {idx:city for idx,city in enumerate(t)}\n",
    "content"
   ]
  },
  {
   "cell_type": "code",
   "execution_count": 21,
   "id": "0cb16502",
   "metadata": {},
   "outputs": [
    {
     "name": "stdout",
     "output_type": "stream",
     "text": [
      "[ 0  2  4  6  8 10 12 14]\n",
      "8\n"
     ]
    },
    {
     "data": {
      "text/plain": [
       "array([ 2,  4,  6,  8, 10, 12])"
      ]
     },
     "execution_count": 21,
     "metadata": {},
     "output_type": "execute_result"
    }
   ],
   "source": [
    "# Q17) Write a program to create an Array of Even numbers till 14. Display the contents of\n",
    "# array, compute the length of array and also show how to delete a element from the desired\n",
    "# position from the array.\n",
    "import numpy as np\n",
    "arr = np.array([i for i in range(15) if i%2==0])\n",
    "print(arr)\n",
    "print(len(arr))\n",
    "arr = np.delete(arr,[0,-1])  # 1st and last element delete\n",
    "arr"
   ]
  },
  {
   "cell_type": "code",
   "execution_count": 22,
   "id": "ee475191",
   "metadata": {},
   "outputs": [
    {
     "data": {
      "text/plain": [
       "[1, 2, 3, 4]"
      ]
     },
     "execution_count": 22,
     "metadata": {},
     "output_type": "execute_result"
    }
   ],
   "source": [
    "# Q18) Using Filter function, write a program to filter the elements which are greater than 9.\n",
    "\n",
    "list3 = [1,2,3,4,13,14,15]\n",
    "list(filter(lambda i:i<9,list3))"
   ]
  },
  {
   "cell_type": "code",
   "execution_count": 23,
   "id": "50fd9f24",
   "metadata": {},
   "outputs": [
    {
     "data": {
      "text/plain": [
       "[5, 10, 35]"
      ]
     },
     "execution_count": 23,
     "metadata": {},
     "output_type": "execute_result"
    }
   ],
   "source": [
    "# Q19) Using Filter function, write a program to display multiple of 5 from a given array.\n",
    "\n",
    "list4 = [1,2,5,10,12,35]\n",
    "list(filter(lambda i:i%5==0,list4))"
   ]
  },
  {
   "cell_type": "code",
   "execution_count": 24,
   "id": "5326aef0",
   "metadata": {},
   "outputs": [
    {
     "name": "stdout",
     "output_type": "stream",
     "text": [
      "Computer Science\n"
     ]
    }
   ],
   "source": [
    "# Q20) Write a Program to create a file called “Input.txt”, perform the write/read operation in\n",
    "# it with a string “Computer Science”.\n",
    "\n",
    "from pathlib import Path\n",
    "input_file_path = Path() / 'input.txt'\n",
    "input_file_path.touch(exist_ok=True)\n",
    "\n",
    "with open('input.txt',\"w\") as file:\n",
    "    file.write(\"Computer Science\")\n",
    "\n",
    "with open('input.txt','r') as file:\n",
    "    content = file.read()\n",
    "    print(content)"
   ]
  },
  {
   "cell_type": "code",
   "execution_count": 25,
   "id": "a362ea26",
   "metadata": {},
   "outputs": [
    {
     "name": "stdout",
     "output_type": "stream",
     "text": [
      "Com\n"
     ]
    }
   ],
   "source": [
    "\n",
    "# Q21) Write a Program to create a file called “Input.txt”, initialize it with a string of your\n",
    "# choice and perform the read operation to read only the first 3 characters from the file.\n",
    "\n",
    "# Already created the file!\n",
    "with open('input.txt','r') as file:\n",
    "    content = file.read(3)\n",
    "    print(content)"
   ]
  },
  {
   "cell_type": "code",
   "execution_count": 26,
   "id": "2987d74a",
   "metadata": {},
   "outputs": [
    {
     "name": "stdout",
     "output_type": "stream",
     "text": [
      "Array: [8 4 9 6 3 6 3 7 3 7]\n",
      "[8, 4, 9, 6, 3, 6, 3, 7, 3, 7]\n"
     ]
    },
    {
     "data": {
      "text/plain": [
       "array([4, 9, 6, 3])"
      ]
     },
     "execution_count": 26,
     "metadata": {},
     "output_type": "execute_result"
    }
   ],
   "source": [
    "# Q22) Using NumPy, write a program to create 1 Dim Array, load it with\n",
    "# numbers, and perform the operation of Iteration and Slicing on it.\n",
    "import numpy as np\n",
    "\n",
    "arr1 = np.random.randint(1,10,10)\n",
    "print(\"Array:\",arr1)\n",
    "\n",
    "print([int(i) for i in arr1])\n",
    "\n",
    "arr1[1:5]"
   ]
  },
  {
   "cell_type": "code",
   "execution_count": 27,
   "id": "5db19a07",
   "metadata": {},
   "outputs": [
    {
     "data": {
      "text/plain": [
       "array([[[2, 7, 4],\n",
       "        [4, 8, 5],\n",
       "        [8, 7, 3]],\n",
       "\n",
       "       [[8, 1, 9],\n",
       "        [2, 6, 8],\n",
       "        [5, 8, 6]]])"
      ]
     },
     "execution_count": 27,
     "metadata": {},
     "output_type": "execute_result"
    }
   ],
   "source": [
    "# Q23) Using NumPy, write a program to create Multi-Dim Array, load it with\n",
    "# the numbers and display the content of it.\n",
    "\n",
    "arr2 = np.random.randint(1,10,(2,3,3))    # shape= 2blocks, 3 rows, 3 cols\n",
    "arr2"
   ]
  },
  {
   "cell_type": "code",
   "execution_count": 29,
   "id": "c5c4d1a7",
   "metadata": {},
   "outputs": [
    {
     "name": "stdout",
     "output_type": "stream",
     "text": [
      "Array: [8 3 7 9 1 9 6 1 4 1]\n",
      "8 3 7 9 1 9 6 1 4 1 \n",
      "\n",
      "[1 1 1 3 4 6 7 8 9 9]\n"
     ]
    },
    {
     "data": {
      "text/plain": [
       "array([1, 1, 1, 3, 7, 8, 9, 9])"
      ]
     },
     "execution_count": 29,
     "metadata": {},
     "output_type": "execute_result"
    }
   ],
   "source": [
    "# Q24) Using NumPy, write a program to create two 1 Dim Array and\n",
    "# perform the operation of Iteration, Sorting the contents of array and\n",
    "# concatenating the contents of the array.\n",
    "\n",
    "arr3 = np.random.randint(1,10,10)\n",
    "print(\"Array:\",arr3)\n",
    "\n",
    "for i in arr3:\n",
    "    print(i,end=\" \")\n",
    "\n",
    "print(\"\\n\")\n",
    "arr3.sort()\n",
    "print(arr3)\n",
    "\n",
    "arr3a, arr3b = arr3[:4],arr3[6:]\n",
    "np.concatenate([arr3a,arr3b])"
   ]
  },
  {
   "cell_type": "code",
   "execution_count": 30,
   "id": "ec9eec42",
   "metadata": {},
   "outputs": [
    {
     "data": {
      "text/plain": [
       "(3, 3)"
      ]
     },
     "execution_count": 30,
     "metadata": {},
     "output_type": "execute_result"
    }
   ],
   "source": [
    "# Q25) Using NumPy, initialize the array and display their dimensionality.\n",
    "\n",
    "arr4 = np.array([[1,2,3],[1,2,3],[1,2,3]])\n",
    "arr4.shape"
   ]
  },
  {
   "cell_type": "code",
   "execution_count": 31,
   "id": "3f7c50ef",
   "metadata": {},
   "outputs": [
    {
     "data": {
      "text/html": [
       "<div>\n",
       "<style scoped>\n",
       "    .dataframe tbody tr th:only-of-type {\n",
       "        vertical-align: middle;\n",
       "    }\n",
       "\n",
       "    .dataframe tbody tr th {\n",
       "        vertical-align: top;\n",
       "    }\n",
       "\n",
       "    .dataframe thead th {\n",
       "        text-align: right;\n",
       "    }\n",
       "</style>\n",
       "<table border=\"1\" class=\"dataframe\">\n",
       "  <thead>\n",
       "    <tr style=\"text-align: right;\">\n",
       "      <th></th>\n",
       "      <th>Name</th>\n",
       "      <th>Roll number</th>\n",
       "    </tr>\n",
       "  </thead>\n",
       "  <tbody>\n",
       "    <tr>\n",
       "      <th>0</th>\n",
       "      <td>Arun Singh Negi</td>\n",
       "      <td>1919051724</td>\n",
       "    </tr>\n",
       "  </tbody>\n",
       "</table>\n",
       "</div>"
      ],
      "text/plain": [
       "              Name  Roll number\n",
       "0  Arun Singh Negi   1919051724"
      ]
     },
     "execution_count": 31,
     "metadata": {},
     "output_type": "execute_result"
    }
   ],
   "source": [
    "# Q26) Using Panda, create a DataFrame, initialize it with the contents such\n",
    "# as : your Enrollment Number and Name and display them.\n",
    "\n",
    "import pandas as pd\n",
    "df1 = pd.DataFrame([{\"Name\":\"Arun Singh Negi\",\"Roll number\":1919051724}])\n",
    "df1"
   ]
  },
  {
   "cell_type": "code",
   "execution_count": 38,
   "id": "5074e196",
   "metadata": {},
   "outputs": [
    {
     "data": {
      "text/plain": [
       "[<matplotlib.lines.Line2D at 0x29e6c638650>]"
      ]
     },
     "execution_count": 38,
     "metadata": {},
     "output_type": "execute_result"
    },
    {
     "data": {
      "image/png": "[encoded data removed]",
      "text/plain": [
       "<Figure size 400x300 with 1 Axes>"
      ]
     },
     "metadata": {},
     "output_type": "display_data"
    }
   ],
   "source": [
    "# Q27) Create 2 array, using the MatPlotLib, plot the graph with the content\n",
    "# of the two array, with coordinates plotting on X axis and Y axis.\n",
    "\n",
    "import matplotlib.pyplot as plt\n",
    "plt.figure(figsize=(4,3))\n",
    "\n",
    "arrx = np.array([1,2,3,4,5,4])\n",
    "arry = arrx + np.random.randint(1,5,arrx.shape)\n",
    "\n",
    "plt.plot(arrx,arry)"
   ]
  },
  {
   "cell_type": "code",
   "execution_count": 59,
   "id": "67ccdb31",
   "metadata": {},
   "outputs": [
    {
     "name": "stdout",
     "output_type": "stream",
     "text": [
      "   Age  Weight   BMI\n",
      "0   10      40  17.4\n",
      "1   15      60  23.4\n",
      "2   30      78  18.0\n"
     ]
    },
    {
     "data": {
      "text/plain": [
       "<matplotlib.legend.Legend at 0x29e6e630f20>"
      ]
     },
     "execution_count": 59,
     "metadata": {},
     "output_type": "execute_result"
    },
    {
     "data": {
      "image/png": "[encoded data removed]",
      "text/plain": [
       "<Figure size 400x300 with 1 Axes>"
      ]
     },
     "metadata": {},
     "output_type": "display_data"
    }
   ],
   "source": [
    "# Q28) Create a .csv file(with contents like : Age, Weight and BMI). Read the\n",
    "# content of the file and using Panda and MatPlotLib, plot the graph.\n",
    "\n",
    "data = {\n",
    "    \"Age\":[10,15,30],\n",
    "    \"Weight\": [40,60,78],\n",
    "    \"BMI\" : [17.4,23.4,18]\n",
    "}\n",
    "df = pd.DataFrame(data)\n",
    "df.to_csv(\"Question_28.csv\",index=False)  # index = False to prevent rows index to be as column\n",
    "\n",
    "read_data = pd.read_csv(\"Question_28.csv\")\n",
    "print(read_data)\n",
    "plt.figure(figsize=(4,3))\n",
    "plt.plot(read_data['Age'],read_data['Weight'],label='Weight')\n",
    "plt.plot(read_data['Age'],read_data['BMI'],label='BMI')\n",
    "plt.legend()"
   ]
  },
  {
   "cell_type": "code",
   "execution_count": null,
   "id": "181ce7c0",
   "metadata": {},
   "outputs": [
    {
     "data": {
      "text/html": [
       "<div>\n",
       "<style scoped>\n",
       "    .dataframe tbody tr th:only-of-type {\n",
       "        vertical-align: middle;\n",
       "    }\n",
       "\n",
       "    .dataframe tbody tr th {\n",
       "        vertical-align: top;\n",
       "    }\n",
       "\n",
       "    .dataframe thead th {\n",
       "        text-align: right;\n",
       "    }\n",
       "</style>\n",
       "<table border=\"1\" class=\"dataframe\">\n",
       "  <thead>\n",
       "    <tr style=\"text-align: right;\">\n",
       "      <th></th>\n",
       "      <th>Unnamed: 0</th>\n",
       "      <th>Name</th>\n",
       "      <th>Roll number</th>\n",
       "    </tr>\n",
       "  </thead>\n",
       "  <tbody>\n",
       "    <tr>\n",
       "      <th>0</th>\n",
       "      <td>0</td>\n",
       "      <td>A</td>\n",
       "      <td>1</td>\n",
       "    </tr>\n",
       "    <tr>\n",
       "      <th>1</th>\n",
       "      <td>1</td>\n",
       "      <td>B</td>\n",
       "      <td>2</td>\n",
       "    </tr>\n",
       "    <tr>\n",
       "      <th>2</th>\n",
       "      <td>2</td>\n",
       "      <td>C</td>\n",
       "      <td>3</td>\n",
       "    </tr>\n",
       "  </tbody>\n",
       "</table>\n",
       "</div>"
      ],
      "text/plain": [
       "   Unnamed: 0 Name  Roll number\n",
       "0           0    A            1\n",
       "1           1    B            2\n",
       "2           2    C            3"
      ]
     },
     "execution_count": 44,
     "metadata": {},
     "output_type": "execute_result"
    }
   ],
   "source": [
    "# This is what happens if index=True\n",
    "data = {\n",
    "    \"Name\":[\"A\",\"B\",\"C\"],\n",
    "    \"Roll number\": [1,2,3]\n",
    "}\n",
    "\n",
    "df = pd.DataFrame(data)\n",
    "\n",
    "df.to_csv(\"lol.csv\",index=True)  \n",
    "\n",
    "pd.read_csv(\"lol.csv\")"
   ]
  },
  {
   "cell_type": "code",
   "execution_count": 77,
   "id": "cbe904e7",
   "metadata": {},
   "outputs": [
    {
     "name": "stdout",
     "output_type": "stream",
     "text": [
      "   Age  Weight   BMI\n",
      "0   10      40  17.4\n",
      "1   10      60  23.4\n",
      "2   15      78  18.0\n",
      "3   15      20  23.0\n",
      "4   20      40  13.0\n",
      "5   15      20  19.0\n",
      "6   20      20  19.0\n"
     ]
    },
    {
     "data": {
      "text/plain": [
       "(array([1., 0., 0., 0., 2., 2., 0., 0., 0., 2.]),\n",
       " array([13.  , 14.04, 15.08, 16.12, 17.16, 18.2 , 19.24, 20.28, 21.32,\n",
       "        22.36, 23.4 ]),\n",
       " <BarContainer object of 10 artists>)"
      ]
     },
     "execution_count": 77,
     "metadata": {},
     "output_type": "execute_result"
    },
    {
     "data": {
      "image/png": "[encoded data removed]",
      "text/plain": [
       "<Figure size 1000x400 with 3 Axes>"
      ]
     },
     "metadata": {},
     "output_type": "display_data"
    }
   ],
   "source": [
    "# Q29) Create a .csv file(with contents like : Age, Weight and BMI). Read the\n",
    "# content of the file and using Panda and MatPlotLib, plot the histogram\n",
    "data = {\n",
    "    \"Age\":[10,10,15,15,20,15,20],\n",
    "    \"Weight\": [40,60,78,20,40,20,20],\n",
    "    \"BMI\" : [17.4,23.4,18,23,13,19,19]\n",
    "}\n",
    "df = pd.DataFrame(data)\n",
    "df.to_csv(\"Question_29.csv\",index=False) \n",
    "\n",
    "read_data = pd.read_csv(\"Question_29.csv\")\n",
    "print(read_data)\n",
    "\n",
    "plt.figure(figsize=(10,4))\n",
    "plt.subplot(1,3,1); plt.hist(read_data['Age'])\n",
    "plt.subplot(1,3,2); plt.hist(read_data['Weight'])\n",
    "plt.subplot(1,3,3); plt.hist(read_data['BMI'])"
   ]
  },
  {
   "cell_type": "code",
   "execution_count": null,
   "id": "90dbc3aa",
   "metadata": {},
   "outputs": [
    {
     "data": {
      "text/plain": [
       "('Arun Negi', 1919051724, 'USAR', 'IIOT')"
      ]
     },
     "execution_count": 80,
     "metadata": {},
     "output_type": "execute_result"
    }
   ],
   "source": [
    "# Q30) Write a Program to create a class called ‘Student’ with fields such as :\n",
    "# Enrollment Number, USS Name, Branch Name, Student Name etc.\n",
    "# Instantiate a class and make a call to user defined function to display the\n",
    "# details of students.\n",
    "\n",
    "class Student():\n",
    "    def __init__(self,Name,enrollment_number,Uss,Branch):\n",
    "        self.Name = Name\n",
    "        self.enrollment_number = enrollment_number\n",
    "        self.Uss = Uss\n",
    "        self.Branch = Branch\n",
    "    \n",
    "    def details(self):\n",
    "        return self.Name,self.enrollment_number,self.Uss,self.Branch\n",
    "    \n",
    "Arun = Student(\"Arun Negi\",1919051724,\"USAR\",\"IIOT\")\n",
    "Arun.details()"
   ]
  },
  {
   "cell_type": "code",
   "execution_count": 81,
   "id": "9674228d",
   "metadata": {},
   "outputs": [
    {
     "data": {
      "text/plain": [
       "('Arun Negi', 1919051724)"
      ]
     },
     "execution_count": 81,
     "metadata": {},
     "output_type": "execute_result"
    }
   ],
   "source": [
    "# Q31) Define Employee Class with fields such as Employee ID and Employee\n",
    "# Name. Instantiate the class, invoke the constructor and make a call to user\n",
    "# defined function to display the information about employee.\n",
    "\n",
    "class Employee():\n",
    "    def __init__(self,name,employee_id):\n",
    "        self.name = name\n",
    "        self.employee_id = employee_id\n",
    "\n",
    "    def info(self):\n",
    "        return self.name,self.employee_id\n",
    "    \n",
    "Arun = Employee(\"Arun Negi\",1919051724)\n",
    "Arun.info()"
   ]
  },
  {
   "cell_type": "code",
   "execution_count": null,
   "id": "ab88aad5",
   "metadata": {},
   "outputs": [],
   "source": []
  }
 ],
 "metadata": {
  "kernelspec": {
   "display_name": "base",
   "language": "python",
   "name": "python3"
  },
  "language_info": {
   "codemirror_mode": {
    "name": "ipython",
    "version": 3
   },
   "file_extension": ".py",
   "mimetype": "text/x-python",
   "name": "python",
   "nbconvert_exporter": "python",
   "pygments_lexer": "ipython3",
   "version": "3.12.7"
  }
 },
 "nbformat": 4,
 "nbformat_minor": 5
}
