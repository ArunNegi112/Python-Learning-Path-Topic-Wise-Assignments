{
 "cells": [
  {
   "cell_type": "markdown",
   "metadata": {},
   "source": [
    "# Module 5: Modules and Packages Assignments\n",
    "## Lesson 5.1: Importing Modules\n",
    "### Assignment 1: Importing and Using Modules\n"
   ]
  },
  {
   "cell_type": "markdown",
   "id": "992fb4a2",
   "metadata": {},
   "source": [
    "\n",
    "Import the `math` module and use it to calculate the square root of 25 and the sine of 90 degrees.\n"
   ]
  },
  {
   "cell_type": "code",
   "execution_count": 1,
   "id": "d8104ffa",
   "metadata": {},
   "outputs": [
    {
     "name": "stdout",
     "output_type": "stream",
     "text": [
      "square root of 25=5.0\n",
      "sine of 90 degree=1.0\n"
     ]
    }
   ],
   "source": [
    "import math\n",
    "print(f\"square root of 25={math.sqrt(25)}\")\n",
    "print(f\"sine of 90 degree={math.sin(math.radians(90))}\")"
   ]
  },
  {
   "cell_type": "markdown",
   "id": "d34b8cbe",
   "metadata": {},
   "source": [
    "\n",
    "### Assignment 2: Aliasing Modules\n",
    "\n",
    "Import the `datetime` module with an alias and use it to print the current date and time.\n"
   ]
  },
  {
   "cell_type": "code",
   "execution_count": 5,
   "id": "523e3bbc",
   "metadata": {},
   "outputs": [
    {
     "name": "stdout",
     "output_type": "stream",
     "text": [
      "2025-02-20 23:01:50.157743\n"
     ]
    }
   ],
   "source": [
    "import datetime as dt\n",
    "print(dt.datetime.now())"
   ]
  },
  {
   "cell_type": "markdown",
   "id": "70fbf968",
   "metadata": {},
   "source": [
    "\n",
    "### Assignment 3: Importing Specific Functions\n",
    "\n",
    "Import the `randint` function from the `random` module and use it to generate a random integer between 1 and 100.\n"
   ]
  },
  {
   "cell_type": "code",
   "execution_count": 6,
   "id": "bfaf17d2",
   "metadata": {},
   "outputs": [
    {
     "data": {
      "text/plain": [
       "66"
      ]
     },
     "execution_count": 6,
     "metadata": {},
     "output_type": "execute_result"
    }
   ],
   "source": [
    "from random import randint\n",
    "randint(1,100)"
   ]
  },
  {
   "cell_type": "markdown",
   "id": "10d1923c",
   "metadata": {},
   "source": [
    "\n",
    "### Assignment 4: Importing Multiple Functions\n",
    "\n",
    "Import the `sqrt` and `pow` functions from the `math` module and use them to calculate the square root of 16 and 2 raised to the power of 3.\n"
   ]
  },
  {
   "cell_type": "code",
   "execution_count": 7,
   "id": "b58f6550",
   "metadata": {},
   "outputs": [
    {
     "name": "stdout",
     "output_type": "stream",
     "text": [
      "square root of 16=4.0\n",
      "2 raise to the power of 3=8.0\n"
     ]
    }
   ],
   "source": [
    "from math import sqrt,pow\n",
    "print(f\"square root of 16={sqrt(16)}\")\n",
    "print(f\"2 raise to the power of 3={pow(2,3)}\")"
   ]
  },
  {
   "cell_type": "markdown",
   "id": "8213c3ca",
   "metadata": {},
   "source": [
    "\n",
    "### Assignment 5: Handling Import Errors\n",
    "\n",
    "Write code that attempts to import a non-existent module and gracefully handles the import error by printing an error message.\n"
   ]
  },
  {
   "cell_type": "code",
   "execution_count": 14,
   "id": "ebb52003",
   "metadata": {},
   "outputs": [],
   "source": [
    "import importlib"
   ]
  },
  {
   "cell_type": "code",
   "execution_count": 17,
   "id": "fc9cc754",
   "metadata": {},
   "outputs": [
    {
     "name": "stdout",
     "output_type": "stream",
     "text": [
      "Error! No module named 'this doesnt exist'\n"
     ]
    }
   ],
   "source": [
    "def import_mod(name):\n",
    "    try:\n",
    "        # import name   (Python doesnt allow this directly, use ↓)\n",
    "        module = importlib.import_module(name=name)\n",
    "        return module\n",
    "    except Exception as error:\n",
    "        \n",
    "        print(f\"Error! {error}\")\n",
    "\n",
    "import_mod(name=\"this doesnt exist\")"
   ]
  },
  {
   "cell_type": "code",
   "execution_count": 18,
   "id": "c673900e",
   "metadata": {},
   "outputs": [
    {
     "data": {
      "text/plain": [
       "<module 'pandas' from 'c:\\\\Users\\\\Arun\\\\Documents\\\\Documents\\\\Python-Learning-Path-Topic-Wise-Assignments\\\\env\\\\Lib\\\\site-packages\\\\pandas\\\\__init__.py'>"
      ]
     },
     "execution_count": 18,
     "metadata": {},
     "output_type": "execute_result"
    }
   ],
   "source": [
    "import_mod(\"pandas\")"
   ]
  },
  {
   "cell_type": "markdown",
   "id": "00dcba85",
   "metadata": {},
   "source": [
    "\n",
    "## Lesson 5.2: Standard Library Overview\n",
    "### Assignment 6: Working with the `os` Module\n",
    "\n",
    "Use the `os` module to create a new directory, list the contents of the current directory, and remove the newly created directory.\n"
   ]
  },
  {
   "cell_type": "markdown",
   "id": "f56cc31d",
   "metadata": {},
   "source": [
    "\n",
    "### Assignment 7: Working with the `sys` Module\n",
    "\n",
    "Use the `sys` module to print the Python version currently in use and the command-line arguments passed to the script.\n"
   ]
  },
  {
   "cell_type": "markdown",
   "id": "021942f4",
   "metadata": {},
   "source": [
    "\n",
    "### Assignment 8: Working with the `math` Module\n",
    "\n",
    "Use the `math` module to calculate the greatest common divisor (GCD) of two numbers and the factorial of a number.\n"
   ]
  },
  {
   "cell_type": "markdown",
   "id": "d3efc715",
   "metadata": {},
   "source": [
    "\n",
    "### Assignment 9: Working with the `datetime` Module\n",
    "\n",
    "Use the `datetime` module to print the current date, calculate the date 100 days from today, and determine the day of the week for a given date.\n"
   ]
  },
  {
   "cell_type": "markdown",
   "id": "2ba4e5be",
   "metadata": {},
   "source": [
    "\n",
    "### Assignment 10: Working with the `random` Module\n",
    "\n",
    "Use the `random` module to generate a list of 5 random numbers between 1 and 50 and shuffle the elements of a list.\n"
   ]
  },
  {
   "cell_type": "markdown",
   "id": "f25bd2c3",
   "metadata": {},
   "source": [
    "\n",
    "## Lesson 5.3: Creating and Using Packages\n",
    "### Assignment 11: Creating a Simple Package\n"
   ]
  },
  {
   "cell_type": "markdown",
   "id": "a15a38c7",
   "metadata": {},
   "source": [
    "\n",
    "Create a package named `mypackage` with two modules: `module1` and `module2`. `module1` should contain a function that adds two numbers, and `module2` should contain a function that multiplies two numbers. Write code to use these functions.\n"
   ]
  },
  {
   "cell_type": "markdown",
   "id": "6d6f7030",
   "metadata": {},
   "source": [
    "\n",
    "### Assignment 12: Using `__init__.py`\n",
    "\n",
    "Modify the `mypackage` package to include an `__init__.py` file that imports the functions from `module1` and `module2`. Write code to use these functions.\n"
   ]
  },
  {
   "cell_type": "markdown",
   "id": "cec5225c",
   "metadata": {},
   "source": [
    "\n",
    "### Assignment 13: Importing from a Package\n",
    "\n",
    "Write code to import and use the functions from `mypackage` without explicitly importing `module1` and `module2`.\n"
   ]
  },
  {
   "cell_type": "markdown",
   "id": "40661c6f",
   "metadata": {},
   "source": [
    "\n",
    "### Assignment 14: Relative Imports\n",
    "\n",
    "Create a subpackage named `subpackage` within `mypackage` and move `module2` into `subpackage`. Modify the import statements in `__init__.py` to use relative imports. Write code to use the functions from both modules.\n"
   ]
  },
  {
   "cell_type": "markdown",
   "id": "1195409b",
   "metadata": {},
   "source": [
    "\n",
    "### Assignment 15: Handling Package Import Errors\n",
    "\n",
    "Write code that attempts to import a non-existent function from `mypackage` and gracefully handles the import error by printing an error message."
   ]
  },
  {
   "cell_type": "code",
   "execution_count": null,
   "metadata": {},
   "outputs": [],
   "source": []
  }
 ],
 "metadata": {
  "kernelspec": {
   "display_name": "env",
   "language": "python",
   "name": "python3"
  },
  "language_info": {
   "codemirror_mode": {
    "name": "ipython",
    "version": 3
   },
   "file_extension": ".py",
   "mimetype": "text/x-python",
   "name": "python",
   "nbconvert_exporter": "python",
   "pygments_lexer": "ipython3",
   "version": "3.13.1"
  }
 },
 "nbformat": 4,
 "nbformat_minor": 5
}
